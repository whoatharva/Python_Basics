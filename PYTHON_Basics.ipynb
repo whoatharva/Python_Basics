{
  "nbformat": 4,
  "nbformat_minor": 0,
  "metadata": {
    "colab": {
      "provenance": [],
      "collapsed_sections": [
        "m1gKXx3U-OCS",
        "btd_GvHt9upn",
        "MiCtOU0F-uLN",
        "_SR0saT9KvwE",
        "pULZk2i3OpH8"
      ]
    },
    "kernelspec": {
      "name": "python3",
      "display_name": "Python 3"
    },
    "language_info": {
      "name": "python"
    },
    "gpuClass": "standard"
  },
  "cells": [
    {
      "cell_type": "markdown",
      "source": [
        "#ATHARVA CHITRE"
      ],
      "metadata": {
        "id": "n45h3Uy2ZzTs"
      }
    },
    {
      "cell_type": "markdown",
      "metadata": {
        "id": "_zsrfL839rAe"
      },
      "source": [
        "\n",
        "---\n",
        "\n",
        "#🐍 **Python Basics Notebook**\n",
        "\n",
        "##Welcome to my Python Basics notebook! 🚀\n",
        "\n",
        "This notebook is designed for Python enthusiasts at all levels, whether you're a beginner looking to dive into programming or someone brushing up on the fundamentals. 📚\n",
        "\n",
        "**Topics Covered:**\n",
        "\n",
        "1. **Introduction to Python:**\n",
        "   - Understand the philosophy behind Python and why it's a versatile and widely-used programming language.\n",
        "\n",
        "2. **Python Syntax:**\n",
        "   - Dive into the syntax of Python, covering variables, data types, and basic operations.\n",
        "\n",
        "3. **Control Flow:**\n",
        "   - Learn how to control the flow of your program with conditional statements (if, elif, else) and loops (for, while).\n",
        "\n",
        "4. **Functions:**\n",
        "   - Explore the concept of functions and how to define and use them effectively in Python.\n",
        "\n",
        "5. **Object-Oriented Programming (OOP):**\n",
        "   - Delve into the principles of OOP, including classes, objects, inheritance, encapsulation, and polymorphism.\n",
        "\n",
        "6. **Data Structures:**\n",
        "   - Get hands-on experience with fundamental data structures like lists, tuples, dictionaries, and sets.\n",
        "\n",
        "7. **File Handling:**\n",
        "   - Learn how to read from and write to files, an essential skill for any Python programmer.\n",
        "\n",
        "**How to Use:**\n",
        "- Each section is accompanied by code examples and explanations to reinforce your understanding.\n",
        "- Feel free to experiment with the provided code and modify it to see the impact on the output.\n",
        "\n",
        "**Why Python?**\n",
        "- Python is known for its readability, versatility, and a vast ecosystem of libraries, making it an excellent choice for beginners and professionals alike.\n",
        "\n",
        "**Getting Started:**\n",
        "1. Open the notebook in Colab.\n",
        "2. Follow along with the code snippets and explanations.\n",
        "3. Experiment with your own code in the provided cells.\n",
        "\n",
        "Whether you're taking your first steps into the world of programming or sharpening your Python skills, I hope you find this notebook both educational and enjoyable! Feel free to reach out if you have any questions or suggestions for improvement. Happy coding! 🚀🐍\n",
        "\n",
        "---"
      ]
    },
    {
      "cell_type": "markdown",
      "source": [
        "Print()"
      ],
      "metadata": {
        "id": "zj7zskVojvhz"
      }
    },
    {
      "cell_type": "code",
      "source": [
        "\n",
        "print(\"hello \\\"hello\\\"\")\n"
      ],
      "metadata": {
        "colab": {
          "base_uri": "https://localhost:8080/"
        },
        "id": "EHVmF4gNNTbw",
        "outputId": "61ce31ce-34c5-430b-b321-343810504dff"
      },
      "execution_count": null,
      "outputs": [
        {
          "output_type": "stream",
          "name": "stdout",
          "text": [
            "hello \"hello\"\n"
          ]
        }
      ]
    },
    {
      "cell_type": "code",
      "metadata": {
        "id": "dSsP_T-l9Y7c"
      },
      "source": [
        "# This is a comment\n",
        "# in a code cell\n",
        "# Press shift + enter to execute a cell\n",
        "# Nothing will print from this cell since these are all comments"
      ],
      "execution_count": null,
      "outputs": []
    },
    {
      "cell_type": "markdown",
      "metadata": {
        "id": "ZGuFM7_U-Bj7"
      },
      "source": [
        "#   **What is Python?**\n",
        "\n",
        "\n",
        "Python is an open-source object-oriented programming language. It first\n",
        "appeared in 1991 and has become extremely popular among data scientists. StackOverflow calls it as the fastest growing programming language.\n",
        "\n",
        "It is used for:\n",
        "\n",
        "*   Web development\n",
        "*   Software Development\n",
        "*   Mathematics\n",
        "*   System Scripting and Much more\n",
        "\n",
        "\n",
        "# **What Python can do?**\n",
        "\n",
        "*   Python can be used on a server to create web applications.\n",
        "*   Python can be used alongside software to create workflows.\n",
        "*   Python can connect to database systems. It can also read and modify files.\n",
        "*   Python can be used to handle big data and perform complex mathematics.\n",
        "*   Python can be used for rapid prototyping, or for production-ready software development."
      ]
    },
    {
      "cell_type": "markdown",
      "metadata": {
        "id": "x-w5GyG9-GdS"
      },
      "source": [
        "# Why Learn Python?\n",
        "Python’s syntax is very simple hence it's easy for the beginners to understand. The lines of code required for a task is less compared to other languages.\n",
        "\n",
        "\n",
        "*  Python works on different platforms (Windows, Mac, Linux, Raspberry Pi, etc).\n",
        "* Python has a simple syntax similar to the English language.\n",
        "* Python has syntax that allows developers to write programs with fewer lines than some other programming languages.\n",
        "*  Python runs on an interpreter system, meaning that code can be executed as soon as it is written. This means that prototyping can be very quick.\n",
        "*  Python can be treated in a procedural way, an object-orientated way or a functional way."
      ]
    },
    {
      "cell_type": "markdown",
      "metadata": {
        "id": "pUw5ku1p-LTM"
      },
      "source": [
        "# **Let’s look at some cool features of Python:**\n",
        "\n",
        "1.   Simple and easy to learn\n",
        "2.   Free and Open Source\n",
        "3.   Portable\n",
        "4.   Supports different programming paradigm\n",
        "5.   Extensible"
      ]
    },
    {
      "cell_type": "markdown",
      "metadata": {
        "id": "m1gKXx3U-OCS"
      },
      "source": [
        "# **Python Applications:**\n",
        "​\n",
        "1.    Artificial Intelligence\n",
        "2.    Desktop Application\n",
        "3.    Automation\n",
        "4.    Web Development\n",
        "5.    Data Wrangling, Exploration\n",
        "6.    Visualization"
      ]
    },
    {
      "cell_type": "markdown",
      "metadata": {
        "id": "p7XXqcgO-YMa"
      },
      "source": [
        "\n",
        "\n",
        "---\n",
        "\n",
        "\n",
        "Hello world!` Note that parenthesis is needed for python 3`\n",
        "\n",
        "---\n",
        "\n"
      ]
    },
    {
      "cell_type": "code",
      "metadata": {
        "colab": {
          "base_uri": "https://localhost:8080/"
        },
        "id": "Yl9je4Cl9432",
        "outputId": "84823cf7-5e48-46df-8fb9-4cd3ed3afdcd"
      },
      "source": [
        "print ('Hello world')"
      ],
      "execution_count": null,
      "outputs": [
        {
          "output_type": "stream",
          "name": "stdout",
          "text": [
            "Hello world\n"
          ]
        }
      ]
    },
    {
      "cell_type": "code",
      "source": [
        "str1='atharva'\n",
        "str1=\"atharva\"\n",
        "str1='''atharva'''\n",
        "str1=\"\"\"atharva\"\"\""
      ],
      "metadata": {
        "id": "zIZuoZBcqMWw"
      },
      "execution_count": null,
      "outputs": []
    },
    {
      "cell_type": "markdown",
      "metadata": {
        "id": "btd_GvHt9upn"
      },
      "source": [
        "# **Comments:**\n",
        "\n",
        "Python has commenting capability for the purpose of in-code documentation.\n",
        "\n",
        "Comments start with a #, and Python will render the rest of the line as a comment:"
      ]
    },
    {
      "cell_type": "code",
      "metadata": {
        "id": "a_YeED9D9x6s",
        "colab": {
          "base_uri": "https://localhost:8080/"
        },
        "outputId": "acd1022a-b377-43d3-ca8a-e316b1d65257"
      },
      "source": [
        "#This is a comment, this line will not execute.\n",
        "\n",
        "print(\"Upper comment will not be printed\")"
      ],
      "execution_count": null,
      "outputs": [
        {
          "output_type": "stream",
          "name": "stdout",
          "text": [
            "Upper comment will not be printed\n"
          ]
        }
      ]
    },
    {
      "cell_type": "markdown",
      "metadata": {
        "id": "pft3WfTe-LUe"
      },
      "source": [
        "*   Comments can be used to explain Python code.\n",
        "\n",
        "*   Comments can be used to make the code more readable.\n",
        "*   Comments can be used to prevent execution when testing code.\n",
        "*   In `Colab` we have a option to comment a block using `ctrl+/`"
      ]
    },
    {
      "cell_type": "code",
      "metadata": {
        "id": "B77HLpYIoIXN",
        "colab": {
          "base_uri": "https://localhost:8080/"
        },
        "outputId": "1db4ecdf-a38e-47b3-d5dc-81ad57438606"
      },
      "source": [
        "# print(\"Comment in colab line 1\")\n",
        "# print(\"Comment in colab line 2\")\n",
        "# print(\"Comment in colab line 3\")\n",
        "print(\"select all the lines and then do crtl+/ to comment and again to reverse back\")"
      ],
      "execution_count": null,
      "outputs": [
        {
          "output_type": "stream",
          "name": "stdout",
          "text": [
            "Comment in colab line 1\n",
            "Comment in colab line 2\n",
            "Comment in colab line 3\n",
            "select all the lines and then do crtl+/ to comment and again to reverse back\n"
          ]
        }
      ]
    },
    {
      "cell_type": "code",
      "source": [
        "var1=8.5\n",
        "print(type(var1))"
      ],
      "metadata": {
        "colab": {
          "base_uri": "https://localhost:8080/"
        },
        "id": "nwX0Dlz4shrI",
        "outputId": "7c0a4686-0552-43d2-f1e3-db9b708195d4"
      },
      "execution_count": null,
      "outputs": [
        {
          "output_type": "stream",
          "name": "stdout",
          "text": [
            "<class 'float'>\n"
          ]
        }
      ]
    },
    {
      "cell_type": "markdown",
      "metadata": {
        "id": "MiCtOU0F-uLN"
      },
      "source": [
        "# **Variables in Python:**\n",
        "\n",
        "Variables are nothing but reserved memory locations to store values. This means that when you create a variable you reserve some space in memory.\n",
        "\n",
        "In Python you don’t need to declare variables before using it, unlike other languages like Java, C etc.\n",
        "\n",
        "# **Assigning values to a variable:**\n",
        "\n",
        "Python variables do not need explicit declaration to reserve memory space. The declaration happens automatically when you assign a value to a variable.\n",
        "The equal sign (=) is used to assign values to variables."
      ]
    },
    {
      "cell_type": "code",
      "metadata": {
        "id": "WOgTcEk2_J21",
        "colab": {
          "base_uri": "https://localhost:8080/"
        },
        "outputId": "93a894a3-69b1-4cb0-b170-083b5915dcd9"
      },
      "source": [
        "x = 11\n",
        "y = \"PYTHON\"\n",
        "print(x)\n",
        "print(y)"
      ],
      "execution_count": null,
      "outputs": [
        {
          "output_type": "stream",
          "name": "stdout",
          "text": [
            "11\n",
            "PYTHON\n"
          ]
        }
      ]
    },
    {
      "cell_type": "markdown",
      "metadata": {
        "id": "1RlM5twW_VQB"
      },
      "source": [
        "Variables do not need to be declared with any particular type and can even change type after they have been set."
      ]
    },
    {
      "cell_type": "code",
      "metadata": {
        "id": "fo-8MR7q_b-o"
      },
      "source": [
        "x = 4 # x is of type int\n",
        "x = \"Frost forbite\" # x is now of type str\n",
        "print(x)"
      ],
      "execution_count": null,
      "outputs": []
    },
    {
      "cell_type": "markdown",
      "metadata": {
        "id": "N09PcvZvFPt9"
      },
      "source": [
        "String variables can be declared either by using single or double quotes:"
      ]
    },
    {
      "cell_type": "code",
      "metadata": {
        "id": "CGG7Pza5FQzg"
      },
      "source": [
        "x = \"Marcus Burns\"\n",
        "# is the same as\n",
        "x = 'Marcus Burns'\n",
        "y = 10"
      ],
      "execution_count": null,
      "outputs": []
    },
    {
      "cell_type": "markdown",
      "metadata": {
        "id": "H_tMoZ7toprY"
      },
      "source": [
        "At any point if you want to see the `type of the variable` like `int` or `str` use `type()` function."
      ]
    },
    {
      "cell_type": "code",
      "metadata": {
        "id": "mhI3kAO7BZn-",
        "colab": {
          "base_uri": "https://localhost:8080/"
        },
        "outputId": "6b942085-0832-4c4d-dc13-3113b7c9ddb2"
      },
      "source": [
        "a = 2\n",
        "b = 1.5\n",
        "c = 'Coding'\n",
        "print (type(a))\n",
        "print (type(b))\n",
        "print (type(c))"
      ],
      "execution_count": null,
      "outputs": [
        {
          "output_type": "stream",
          "name": "stdout",
          "text": [
            "<class 'int'>\n",
            "<class 'float'>\n",
            "<class 'str'>\n"
          ]
        }
      ]
    },
    {
      "cell_type": "markdown",
      "metadata": {
        "id": "_SR0saT9KvwE"
      },
      "source": [
        "# **Assign Value to Multiple Variables:**\n",
        "\n",
        "Python allows you to assign values to multiple variables in one line:"
      ]
    },
    {
      "cell_type": "code",
      "metadata": {
        "id": "tTsMoY7MK1wx",
        "colab": {
          "base_uri": "https://localhost:8080/"
        },
        "outputId": "3dc1ead6-a1e5-4358-f0fc-772bd6f66761"
      },
      "source": [
        "x, y, z = \"Apples\", \"Grapes\", \"Mangoes\" #very useful in spliting the data\n",
        "print(x)\n",
        "print(y)\n",
        "print(z)"
      ],
      "execution_count": null,
      "outputs": [
        {
          "output_type": "stream",
          "name": "stdout",
          "text": [
            "Apples\n",
            "Grapes\n",
            "Mangoes\n"
          ]
        }
      ]
    },
    {
      "cell_type": "code",
      "source": [
        "A ,B , C, D, E = \"hasya\",\"rudra\" , \"shivam \", \"jiya\" ,\"hanee\"\n",
        "print(A,B,C,D,E)"
      ],
      "metadata": {
        "colab": {
          "base_uri": "https://localhost:8080/"
        },
        "id": "CI4AdJEDm6XV",
        "outputId": "7c8692e1-22b7-4c25-b2c6-bb7c98f6946d"
      },
      "execution_count": null,
      "outputs": [
        {
          "output_type": "stream",
          "name": "stdout",
          "text": [
            "hasya rudra shivam  jiya hanee\n"
          ]
        }
      ]
    },
    {
      "cell_type": "markdown",
      "metadata": {
        "id": "TyJ-roCOK9zT"
      },
      "source": [
        "And you can assign the same value to multiple variables in one line:"
      ]
    },
    {
      "cell_type": "code",
      "metadata": {
        "id": "AC-SxzcVK_6J",
        "colab": {
          "base_uri": "https://localhost:8080/"
        },
        "outputId": "d4702871-c088-4c06-c34c-17c0cafaac4a"
      },
      "source": [
        "x = y = z = \"Kiwi\"\n",
        "print(x)\n",
        "print(y)\n",
        "print(z)"
      ],
      "execution_count": null,
      "outputs": [
        {
          "output_type": "stream",
          "name": "stdout",
          "text": [
            "Kiwi\n",
            "Kiwi\n",
            "Kiwi\n"
          ]
        }
      ]
    },
    {
      "cell_type": "markdown",
      "metadata": {
        "id": "pULZk2i3OpH8"
      },
      "source": [
        "# **Data Types in Python:**\n",
        "Python supports various data types, these data types defines the operations possible on the variables and the storage method.\n",
        "\n",
        "\n",
        "* Text Type:\t`str`\n",
        "* Numeric Types:\t`int, float, complex`\n",
        "* Sequence Types:\t`list, tuple, range`\n",
        "* Mapping Type:\t`dict`\n",
        "* Set Types:\t`set, frozenset`\n",
        "* Boolean Type:\t`bool`\n",
        "* Binary Types:\t`bytes, bytearray, memoryview`"
      ]
    },
    {
      "cell_type": "markdown",
      "metadata": {
        "id": "QVlmz3KzOvEv"
      },
      "source": [
        "# **Getting the Data Type:**\n",
        "\n",
        "You can get the data type of any object by using the type() function:"
      ]
    },
    {
      "cell_type": "code",
      "metadata": {
        "id": "lMxxsaQFBqY7",
        "colab": {
          "base_uri": "https://localhost:8080/"
        },
        "outputId": "c50ecc51-f8d1-434f-98d9-17b01671e00d"
      },
      "source": [
        "a = 'shivam'\n",
        "type(a)\n"
      ],
      "execution_count": null,
      "outputs": [
        {
          "output_type": "execute_result",
          "data": {
            "text/plain": [
              "str"
            ]
          },
          "metadata": {},
          "execution_count": 8
        }
      ]
    },
    {
      "cell_type": "markdown",
      "metadata": {
        "id": "JmJ0drEEO7Sp"
      },
      "source": [
        "**Numeric:**\n",
        "\n",
        "Just as expected Numeric data types store numeric values. They are immutable data types, this means that you cannot change it’s value. Python supports three different Numeric data types:\n",
        "\n",
        "1. Integer type: It holds all the integer values i.e. all the positive and negative whole numbers, example – 10.\n",
        "\n",
        "2. Float type: It holds the real numbers and are represented by decimal and sometimes even scientific notations with E or e indicating the power of 10 (2.5e2 = 2.5 x 102 = 250), example – 10.24.\n",
        "\n",
        "3. Complex type: These are of the form a + bj, where a and b are floats and J represents the square root of -1 (which is an imaginary number), example – 10+6j.\n",
        "\n",
        "Now you can even perform type conversion. For example, you can convert the integer value to a float value and vice-versa."
      ]
    },
    {
      "cell_type": "markdown",
      "metadata": {
        "id": "tMCB-d5SPPcz"
      },
      "source": [
        "**Type Conversion**\n",
        "\n",
        "You can convert from one type to another with the int(), float(), and complex() methods:"
      ]
    },
    {
      "cell_type": "code",
      "metadata": {
        "id": "jLEAczK2Pf3_",
        "colab": {
          "base_uri": "https://localhost:8080/"
        },
        "outputId": "c917bd1d-d99b-45d5-df08-d5abfe975d39"
      },
      "source": [
        "# we usually use int conversion for some values in ML\n",
        "a = 8.16\n",
        "# Convert it into int type\n",
        "b = int(a)\n",
        "print(b)"
      ],
      "execution_count": null,
      "outputs": [
        {
          "output_type": "stream",
          "name": "stdout",
          "text": [
            "8\n"
          ]
        }
      ]
    },
    {
      "cell_type": "code",
      "source": [
        "a=\"hi ,\"\n",
        "b=\"I'm Atharva\"\n",
        "print(a+b)#concataion\n"
      ],
      "metadata": {
        "colab": {
          "base_uri": "https://localhost:8080/"
        },
        "id": "Va96D4nzpUq-",
        "outputId": "2bb8731c-2b90-4324-8ee5-44c23b96ed4b"
      },
      "execution_count": null,
      "outputs": [
        {
          "output_type": "stream",
          "name": "stdout",
          "text": [
            "hi ,I'm Atharva\n"
          ]
        }
      ]
    },
    {
      "cell_type": "code",
      "source": [
        "a=\"140\"\n",
        "b=\"240\"\n",
        "c=int(a+b)\n",
        "c"
      ],
      "metadata": {
        "colab": {
          "base_uri": "https://localhost:8080/"
        },
        "id": "2Dh9smJHp-W0",
        "outputId": "03de02f8-0295-4a2d-eb36-983b7fbeb5ab"
      },
      "execution_count": null,
      "outputs": [
        {
          "output_type": "execute_result",
          "data": {
            "text/plain": [
              "140240"
            ]
          },
          "metadata": {},
          "execution_count": 14
        }
      ]
    },
    {
      "cell_type": "code",
      "source": [
        "print(\"\\\"hello  world\")\n"
      ],
      "metadata": {
        "colab": {
          "base_uri": "https://localhost:8080/"
        },
        "id": "ZJKw93pzsFqO",
        "outputId": "202a9d21-caa8-41a4-f81d-abec2709f0bf"
      },
      "execution_count": null,
      "outputs": [
        {
          "output_type": "stream",
          "name": "stdout",
          "text": [
            "\"hello  world\n"
          ]
        }
      ]
    },
    {
      "cell_type": "markdown",
      "metadata": {
        "id": "uevK81TSPqiU"
      },
      "source": [
        "# **Strings:**\n",
        "\n",
        "Strings are amongst the most popular data types in Python. We can create them simply by enclosing characters in quotes. Python treats single and double quotes in exactly the same fashion."
      ]
    },
    {
      "cell_type": "code",
      "source": [
        "a=\"python rocks\"\n",
        "print(a[0:6])"
      ],
      "metadata": {
        "id": "TMBoykXLihAH",
        "colab": {
          "base_uri": "https://localhost:8080/"
        },
        "outputId": "6d9254ab-1e03-49a3-8ee0-32236fd0ceda"
      },
      "execution_count": null,
      "outputs": [
        {
          "output_type": "stream",
          "name": "stdout",
          "text": [
            "python\n"
          ]
        }
      ]
    },
    {
      "cell_type": "code",
      "source": [
        "a=\"HELLO WORLD\"\n",
        "a[0:5]"
      ],
      "metadata": {
        "colab": {
          "base_uri": "https://localhost:8080/",
          "height": 35
        },
        "id": "Uz_vfqqmwFUJ",
        "outputId": "22a4f3f9-917b-4bba-9476-1a4924882545"
      },
      "execution_count": null,
      "outputs": [
        {
          "output_type": "execute_result",
          "data": {
            "text/plain": [
              "'HELLO'"
            ],
            "application/vnd.google.colaboratory.intrinsic+json": {
              "type": "string"
            }
          },
          "metadata": {},
          "execution_count": 27
        }
      ]
    },
    {
      "cell_type": "code",
      "source": [
        "a[:5]"
      ],
      "metadata": {
        "colab": {
          "base_uri": "https://localhost:8080/",
          "height": 35
        },
        "id": "e9lHSzP8wR-n",
        "outputId": "78ece4d1-8763-46d2-e950-193b0df4640a"
      },
      "execution_count": null,
      "outputs": [
        {
          "output_type": "execute_result",
          "data": {
            "text/plain": [
              "'HELLO'"
            ],
            "application/vnd.google.colaboratory.intrinsic+json": {
              "type": "string"
            }
          },
          "metadata": {},
          "execution_count": 29
        }
      ]
    },
    {
      "cell_type": "code",
      "source": [
        "a= \"python rock\"\n",
        "a[-12:-1]"
      ],
      "metadata": {
        "id": "v0zL9kLNiyPP",
        "colab": {
          "base_uri": "https://localhost:8080/",
          "height": 35
        },
        "outputId": "5a8caa13-481f-4bff-a9bd-dc7243c22228"
      },
      "execution_count": null,
      "outputs": [
        {
          "output_type": "execute_result",
          "data": {
            "text/plain": [
              "'python roc'"
            ],
            "application/vnd.google.colaboratory.intrinsic+json": {
              "type": "string"
            }
          },
          "metadata": {},
          "execution_count": 26
        }
      ]
    },
    {
      "cell_type": "markdown",
      "metadata": {
        "id": "PFRQnE8vPswE"
      },
      "source": [
        "\\**String Methods**\n",
        "\n",
        "Python has a set of built-in methods that you can use on strings.\n",
        "\n",
        "---\n",
        "\n",
        "*   **capitalize()**\tConverts the first character to upper case\n",
        "---\n",
        "*  **casefold()**\tConverts string into lower case\n",
        "---\n",
        "*   **center()**\tReturns a centered string\n",
        "---\n",
        "*   **count()**\tReturns the number of times a specified value occurs in a string\n",
        "---\n",
        "*   **encode()**\tReturns an encoded version of the string\n",
        "---\n",
        "*   **endswith(**)\tReturns true if the string ends with the specified value\n",
        "---\n",
        "*   **isalpha()**\tReturns True if all characters in the string are in the alphabet\n",
        "---\n",
        "*   **isdecimal()**\tReturns True if all characters in the string are decimals\n",
        "---\n",
        "*   **isdigit()**\tReturns True if all characters in the string are digits\n",
        "---\n",
        "\n",
        "*   **isidentifier()**\tReturns True if the string is an identifier\n",
        "---\n",
        "\n",
        "*   **expandtabs()**\tSets the tab size of the string\n",
        "---\n",
        "\n",
        "*   **find()**\tSearches the string for a specified value and returns the position of where it was found\n",
        "---\n",
        "*   **format()**\tFormats specified values in a string\n",
        "---\n",
        "\n",
        "*   **format_map()**\tFormats specified values in a string\n",
        "---\n",
        "\n",
        "*   **index()**\tSearches the string for a specified value and returns the position of where it was found\n",
        "---\n",
        "\n",
        "*   **isalnum()**\tReturns True if all characters in the string are alphanumeric\n",
        "---\n",
        "*   **islower()**\tReturns True if all characters in the string are lower case\n",
        "---\n",
        "*   **isnumeric()**\tReturns True if all characters in the string are numeric\n",
        "---\n",
        "*   **isprintable()**\tReturns True if all characters in the string are printable\n",
        "---\n",
        "*   **isspace()**\tReturns True if all characters in the string are whitespaces\n",
        "---\n",
        "*   **istitle()**\tReturns True if the string follows the rules of a title\n",
        "---\n",
        "\n",
        "* **isupper()**\tReturns True if all characters in the string are upper case\n",
        "---\n",
        "* **join()**\tJoins the elements of an iterable to the end of the string\n",
        "---\n",
        "* **just()**\tReturns a left justified version of the string\n",
        "---\n",
        "* **lower()**\tConverts a string into lower case\n",
        "---\n",
        "* **lstrip()**\tReturns a left trim version of the string\n",
        "---\n",
        "* **maketrans()**\tReturns a translation table to be used in translations\n",
        "---\n",
        "* **partition()**\tReturns a tuple where the string is parted into three parts\n",
        "---\n",
        "* **replace()**\tReturns a string where a specified value is replaced with a specified\n",
        "value\n",
        "---\n",
        "* **rfind()**\tSearches the string for a specified value and returns the last position\n",
        "of where it was found\n",
        "---\n",
        "* **rindex()**\tSearches the string for a specified value and returns the last position of where it was found\n",
        "---\n",
        "* **rjust()**\tReturns a right justified version of the string\n",
        "---\n",
        "* **rpartition()**\tReturns a tuple where the string is parted into three parts\n",
        "---\n",
        "* **rsplit()**\tSplits the string at the specified separator, and returns a list\n",
        "---\n",
        "* **rstrip()**\tReturns a right trim version of the string\n",
        "---\n",
        "* **split()**\tSplits the string at the specified separator, and returns a list\n",
        "---\n",
        "* **splitlines()**\tSplits the string at line breaks and returns a list\n",
        "---\n",
        "* **startswith()**\tReturns true if the string starts with the specified value\n",
        "---\n",
        "* **strip()**\tReturns a trimmed version of the string\n",
        "---\n",
        "* **swapcase()**\tSwaps cases, lower case becomes upper case and vice versa\n",
        "---\n",
        "* **title()**\tConverts the first character of each word to upper case\n",
        "---\n",
        "* **translate()**\tReturns a translated string\n",
        "---\n",
        "* **upper()**\tConverts a string into upper case\n",
        "---\n",
        "* **zfill()**\tFills the string with a specified number of 0 values at the beginning\n",
        "---\n",
        "\n",
        "\n"
      ]
    },
    {
      "cell_type": "code",
      "source": [],
      "metadata": {
        "id": "EtHGZfwVnFoJ"
      },
      "execution_count": null,
      "outputs": []
    },
    {
      "cell_type": "markdown",
      "metadata": {
        "id": "URny1DMeQEUF"
      },
      "source": [
        "**Strings are Arrays**\n",
        "\n",
        "Like many other popular programming languages, strings in Python are arrays of bytes representing unicode characters.\n",
        "\n",
        "However, Python does not have a character data type, a single character is simply a string with a length of 1.\n",
        "\n",
        "Square brackets can be used to access elements of the string."
      ]
    },
    {
      "cell_type": "code",
      "metadata": {
        "id": "d32_CS-LQLO9"
      },
      "source": [
        "#Get the character at position 1 (remember that the first character has the position 0):\n",
        "\n",
        "a = \"Hello, World!\"\n",
        "print(a[1])"
      ],
      "execution_count": null,
      "outputs": []
    },
    {
      "cell_type": "markdown",
      "metadata": {
        "id": "ECKOL1gxCcGh"
      },
      "source": [
        "# Slicing\n",
        "You can return a range of characters by using the slice syntax.\n",
        "\n",
        "Specify the start index and the end index, separated by a colon, to return a part of the string."
      ]
    },
    {
      "cell_type": "code",
      "metadata": {
        "id": "9h0eI3KF-gga",
        "colab": {
          "base_uri": "https://localhost:8080/"
        },
        "outputId": "497b417e-a0fd-4322-b6a3-92313a7b3a99"
      },
      "source": [
        "b = \"Hello, World!\"\n",
        "print(b[2:5])"
      ],
      "execution_count": null,
      "outputs": [
        {
          "output_type": "stream",
          "name": "stdout",
          "text": [
            "llo\n"
          ]
        }
      ]
    },
    {
      "cell_type": "markdown",
      "metadata": {
        "id": "3qvJHM9eCmLn"
      },
      "source": [
        "**Slice From the Start**\n",
        "\n",
        "By leaving out the start index, the range will start at the first character:"
      ]
    },
    {
      "cell_type": "code",
      "metadata": {
        "id": "LJN55l2wCheC"
      },
      "source": [
        "b = \"Hello, World!\"\n",
        "print(b[:5])"
      ],
      "execution_count": null,
      "outputs": []
    },
    {
      "cell_type": "markdown",
      "metadata": {
        "id": "P-9ua1DjCxPa"
      },
      "source": [
        "**Slice To the End**\n",
        "\n",
        "By leaving out the end index, the range will go to the end:"
      ]
    },
    {
      "cell_type": "code",
      "metadata": {
        "id": "cUoBFRSDCuCT"
      },
      "source": [
        "b = \"Hello, World!\"\n",
        "print(b[2:])"
      ],
      "execution_count": null,
      "outputs": []
    },
    {
      "cell_type": "markdown",
      "metadata": {
        "id": "E4_X-fvyC5xP"
      },
      "source": [
        "**Negative Indexing**\n",
        "\n",
        "Use negative indexes to start the slice from the end of the string:"
      ]
    },
    {
      "cell_type": "code",
      "metadata": {
        "id": "BDjQoQYBC9fp"
      },
      "source": [
        "b = \"python rocks \"\n",
        "print(b[-13:-1])"
      ],
      "execution_count": null,
      "outputs": []
    },
    {
      "cell_type": "markdown",
      "metadata": {
        "id": "_UxLI1OfOE4y"
      },
      "source": [
        "---\n",
        "\n",
        "**Modify Strings**\n",
        "\n",
        "---\n",
        "\n"
      ]
    },
    {
      "cell_type": "markdown",
      "metadata": {
        "id": "KzTKYeafODUg"
      },
      "source": [
        "**Upper Case** in string.\n",
        "\n",
        "\n",
        "The` upper() `method returns the string in upper case:"
      ]
    },
    {
      "cell_type": "code",
      "metadata": {
        "id": "UhvIhihyDAN7"
      },
      "source": [
        "a = \"Hello, World!\"\n",
        "print(a.upper())"
      ],
      "execution_count": null,
      "outputs": []
    },
    {
      "cell_type": "markdown",
      "metadata": {
        "id": "mI-Fe9MiDVWY"
      },
      "source": [
        "**Lower Case**\n",
        "\n",
        "The `lower()` method returns the string in lower case:"
      ]
    },
    {
      "cell_type": "code",
      "metadata": {
        "id": "DCNQRPZyDSc_"
      },
      "source": [
        "a = \"Hello, World!\"\n",
        "print(a.lower())"
      ],
      "execution_count": null,
      "outputs": []
    },
    {
      "cell_type": "markdown",
      "metadata": {
        "id": "e2damC-_Dkio"
      },
      "source": [
        "**Remove Whitespace**\n",
        "\n",
        "Whitespace is the space before and/or after the actual text, and very often you want to remove this space.\n",
        "\n",
        "\n",
        "The ` strip() ` method removes any whitespace from the beginning or the end:"
      ]
    },
    {
      "cell_type": "code",
      "metadata": {
        "id": "-1IQY82HDcb9"
      },
      "source": [
        "a = \"      Hello, World! \"\n",
        "print(a.strip()) # returns \"Hello, World!\""
      ],
      "execution_count": null,
      "outputs": []
    },
    {
      "cell_type": "markdown",
      "metadata": {
        "id": "ZN8lmP7TD5s9"
      },
      "source": [
        "**Replace String**\n",
        "\n",
        "The `replace()` method replaces a string with another string:"
      ]
    },
    {
      "cell_type": "code",
      "metadata": {
        "id": "woB0k6QtDvSz"
      },
      "source": [
        "a = \"Hello, World!\"\n",
        "print(a.replace(\"H\", \"J\"))"
      ],
      "execution_count": null,
      "outputs": []
    },
    {
      "cell_type": "markdown",
      "metadata": {
        "id": "EdMcW9RUEEdr"
      },
      "source": [
        "**Split String**\n",
        "\n",
        "\n",
        "*   The `split()` method returns a list where the text between the specified separator becomes the list items.\n",
        "\n",
        "*   The `split()` method splits the string into substrings if it finds instances of the separator:\n",
        "\n"
      ]
    },
    {
      "cell_type": "code",
      "metadata": {
        "id": "lsFCeAZYD_9N"
      },
      "source": [
        "a = \"Hello, World!\"\n",
        "print(a.split(\",\"))"
      ],
      "execution_count": null,
      "outputs": []
    },
    {
      "cell_type": "markdown",
      "metadata": {
        "id": "Fds0ocIsOcgV"
      },
      "source": [
        "\n",
        "\n",
        "---\n",
        "\n",
        "\n",
        "**String Concatenation**\n",
        "\n",
        "\n",
        "\n",
        "---\n",
        "\n"
      ]
    },
    {
      "cell_type": "markdown",
      "metadata": {
        "id": "tLXhgWdDOn9W"
      },
      "source": [
        "**Merge variable**`a` with variable `b` into variable` c`:"
      ]
    },
    {
      "cell_type": "code",
      "metadata": {
        "id": "na08U7zNOWJb",
        "colab": {
          "base_uri": "https://localhost:8080/"
        },
        "outputId": "6024cca1-fd5c-42f5-e5b0-db4a5d9dfa7d"
      },
      "source": [
        "a = \"Hello\"\n",
        "b = \"World\"\n",
        "c = a + b\n",
        "d = a + \" \" + b\n",
        "print(c)\n",
        "print(d)\n",
        "#18/5"
      ],
      "execution_count": null,
      "outputs": [
        {
          "output_type": "stream",
          "name": "stdout",
          "text": [
            "HelloWorld\n",
            "Hello World\n"
          ]
        }
      ]
    },
    {
      "cell_type": "markdown",
      "metadata": {
        "id": "VmJqTHOLPKjk"
      },
      "source": [
        "\n",
        "\n",
        "---\n",
        "\n",
        "\n",
        "**Format - Strings**\n",
        "\n",
        "\n",
        "---\n",
        "\n"
      ]
    },
    {
      "cell_type": "markdown",
      "metadata": {
        "id": "1qa1hzZlPRHr"
      },
      "source": [
        "As we learned **we cannot combine strings and numbers like this**:"
      ]
    },
    {
      "cell_type": "code",
      "metadata": {
        "id": "hTUyEglZPV4T",
        "colab": {
          "base_uri": "https://localhost:8080/",
          "height": 200
        },
        "outputId": "097ba246-993b-4bb1-aca4-6e8a3780f906"
      },
      "source": [
        "age = 29\n",
        "txt = \"My name is PYTHON, I am \" + age\n",
        "print(txt)"
      ],
      "execution_count": null,
      "outputs": [
        {
          "output_type": "error",
          "ename": "TypeError",
          "evalue": "ignored",
          "traceback": [
            "\u001b[0;31m---------------------------------------------------------------------------\u001b[0m",
            "\u001b[0;31mTypeError\u001b[0m                                 Traceback (most recent call last)",
            "\u001b[0;32m<ipython-input-24-22dd1a0d46fa>\u001b[0m in \u001b[0;36m<module>\u001b[0;34m\u001b[0m\n\u001b[1;32m      1\u001b[0m \u001b[0mage\u001b[0m \u001b[0;34m=\u001b[0m \u001b[0;36m29\u001b[0m\u001b[0;34m\u001b[0m\u001b[0;34m\u001b[0m\u001b[0m\n\u001b[0;32m----> 2\u001b[0;31m \u001b[0mtxt\u001b[0m \u001b[0;34m=\u001b[0m \u001b[0;34m\"My name is PYTHON, I am \"\u001b[0m \u001b[0;34m+\u001b[0m \u001b[0mage\u001b[0m\u001b[0;34m\u001b[0m\u001b[0;34m\u001b[0m\u001b[0m\n\u001b[0m\u001b[1;32m      3\u001b[0m \u001b[0mprint\u001b[0m\u001b[0;34m(\u001b[0m\u001b[0mtxt\u001b[0m\u001b[0;34m)\u001b[0m\u001b[0;34m\u001b[0m\u001b[0;34m\u001b[0m\u001b[0m\n",
            "\u001b[0;31mTypeError\u001b[0m: can only concatenate str (not \"int\") to str"
          ]
        }
      ]
    },
    {
      "cell_type": "markdown",
      "metadata": {
        "id": "uQTbdxL0PirK"
      },
      "source": [
        "But **we can combine strings and numbers by using the** `format()` method!\n",
        "\n",
        "The `format()` method takes the passed arguments, formats them, and places them in the string where the placeholders `{}` are:"
      ]
    },
    {
      "cell_type": "code",
      "metadata": {
        "id": "fpPhk8TLPdOf"
      },
      "source": [
        "age = 29\n",
        "txt = \"My name is PYTHON, and I am {}\"\n",
        "print(txt.format(age))"
      ],
      "execution_count": null,
      "outputs": []
    },
    {
      "cell_type": "code",
      "metadata": {
        "id": "tGSysGWhP4Dr"
      },
      "source": [
        "quantity = 3\n",
        "itemno = 567\n",
        "price = 49.95\n",
        "myorder = \"I want {} pieces of item {} for {} dollars.\"\n",
        "print(myorder.format(quantity, itemno, price))"
      ],
      "execution_count": null,
      "outputs": []
    },
    {
      "cell_type": "markdown",
      "metadata": {
        "id": "cR82i0wFQTpD"
      },
      "source": [
        "Can use index numbers `{0}` to be sure the arguments are placed in the correct placeholders:"
      ]
    },
    {
      "cell_type": "code",
      "metadata": {
        "id": "tqi8nyuUQMzs"
      },
      "source": [
        "quantity = 3\n",
        "itemno = 567\n",
        "price = 49.95\n",
        "myorder = \"I want to pay {2} dollars for {0} pieces of item {1}.\"\n",
        "print(myorder.format(quantity, itemno, price))"
      ],
      "execution_count": null,
      "outputs": []
    },
    {
      "cell_type": "code",
      "metadata": {
        "id": "o12S1IXOQaRE"
      },
      "source": [],
      "execution_count": null,
      "outputs": []
    },
    {
      "cell_type": "markdown",
      "metadata": {
        "id": "NgRmpchngrUn"
      },
      "source": [
        "# Python Booleans"
      ]
    },
    {
      "cell_type": "markdown",
      "metadata": {
        "id": "fU-pN34FhDFv"
      },
      "source": [
        "Booleans **represent one of two values**: `True` or `False`."
      ]
    },
    {
      "cell_type": "code",
      "metadata": {
        "id": "iCL2iEx7hVYm"
      },
      "source": [
        "print(10 > 9)\n",
        "print(10 == 9)\n",
        "print(10 < 9)"
      ],
      "execution_count": null,
      "outputs": []
    },
    {
      "cell_type": "markdown",
      "metadata": {
        "id": "AwykXAJJhiLO"
      },
      "source": [
        "\n",
        "\n",
        "---\n",
        "\n",
        "\n",
        "**Evaluate Values and Variables**\n",
        "\n",
        "\n",
        "---\n",
        "\n"
      ]
    },
    {
      "cell_type": "code",
      "metadata": {
        "id": "gZN8zn_yhV58"
      },
      "source": [
        "print(bool(\"Hello\"))\n",
        "print(bool(15))"
      ],
      "execution_count": null,
      "outputs": []
    },
    {
      "cell_type": "markdown",
      "metadata": {
        "id": "bPjJwg_Ph17H"
      },
      "source": [
        "Evaluate Example"
      ]
    },
    {
      "cell_type": "code",
      "metadata": {
        "id": "Wv4j-daRhuu7"
      },
      "source": [
        "x = \"Hello\"\n",
        "y = 15\n",
        "\n",
        "print(bool(x))\n",
        "print(bool(y))"
      ],
      "execution_count": null,
      "outputs": []
    },
    {
      "cell_type": "markdown",
      "metadata": {
        "id": "d137GMVBiHVX"
      },
      "source": [
        "Following will get only false value"
      ]
    },
    {
      "cell_type": "code",
      "metadata": {
        "id": "iDokhqLOhyBd"
      },
      "source": [
        "bool(False)\n",
        "bool(None)\n",
        "bool(0)\n",
        "bool(\"\")\n",
        "bool(())\n",
        "bool([])\n",
        "bool({})"
      ],
      "execution_count": null,
      "outputs": []
    },
    {
      "cell_type": "markdown",
      "metadata": {
        "id": "TDuMcAzZibD-"
      },
      "source": [
        "# Operators"
      ]
    },
    {
      "cell_type": "markdown",
      "source": [
        "5+4=9\n",
        "operator:- +,=\n",
        "operand:-4,4,9"
      ],
      "metadata": {
        "id": "kXMIHJX3o2nY"
      }
    },
    {
      "cell_type": "markdown",
      "metadata": {
        "id": "yMXYLJpmivLe"
      },
      "source": [
        "Python divides the operators in the following groups:\n",
        "\n",
        "\n",
        "\n",
        "1.   **Arithmetic operators**\n",
        "\n",
        "1.   **Assignment operators**\n",
        "\n",
        "1.  **Comparison operators**\n",
        "2.   **Logical operators**\n",
        "\n",
        "2.  **Identity operators**\n",
        "\n",
        "8. **Bitwise operators**\n",
        "\n",
        "\n",
        "\n",
        "\n",
        "\n",
        "\n"
      ]
    },
    {
      "cell_type": "markdown",
      "metadata": {
        "id": "SMX1oVG31oI8"
      },
      "source": [
        "**Arithmetic Operators**\n",
        "\n",
        "\n",
        "---\n",
        "\n",
        "Arithmetic operators are used to perform mathematical operations like addition, subtraction, multiplication, etc."
      ]
    },
    {
      "cell_type": "markdown",
      "metadata": {
        "id": "61-NdLJI1tCH"
      },
      "source": [
        "Operator\tMeaning\tExample\n",
        "1.\t**(+)** Add two operands or unary plus\n",
        "2.\t**(-)** Subtract right operand from the left or unary minus\n",
        "1.\t**(*)** Multiply two operands\n",
        "1.\t**(/)** Divide left operand by the right one (always results into float)\n",
        "1.  **(%)**\tModulus - remainder of the division of left operand by the right\n",
        "1.\t**(//)** Floor division - division that results into whole number adjusted to the left in the number line\n",
        "1.\t**( ** )** Exponent - left operand raised to the power of right"
      ]
    },
    {
      "cell_type": "code",
      "metadata": {
        "id": "vieeAV1MiR0S",
        "colab": {
          "base_uri": "https://localhost:8080/"
        },
        "outputId": "0d790e4f-076c-46a9-da71-fdaab666cc17"
      },
      "source": [
        "x = 19\n",
        "y = 2\n",
        "\n",
        "#print('x + y =',x+y)\n",
        "\n",
        "#print('x - y =',x-y)\n",
        "\n",
        "# print('x * y =',x*y)\n",
        "\n",
        "# print('x / y =',x/y)\n",
        "# print('x % y =',x%y)\n",
        "\n",
        "# print('x // y =',x//y)\n",
        "\n",
        "print('x ** y =',x**y)"
      ],
      "execution_count": null,
      "outputs": [
        {
          "output_type": "stream",
          "name": "stdout",
          "text": [
            "x ** y = 361\n"
          ]
        }
      ]
    },
    {
      "cell_type": "code",
      "metadata": {
        "id": "1ab2DltNJaP_"
      },
      "source": [
        "n=int(input(\"Enter number:\"))\n",
        "count=0\n",
        "while(n!=0):\n",
        "    count=count+1\n",
        "    n=n//10\n",
        "print(\"The number of digits in the number are:\",count)"
      ],
      "execution_count": null,
      "outputs": []
    },
    {
      "cell_type": "markdown",
      "metadata": {
        "id": "vI8Acn-W3n8c"
      },
      "source": [
        "**Assignment Operators**\n",
        "\n",
        "\n",
        "---\n",
        "\n"
      ]
    },
    {
      "cell_type": "markdown",
      "metadata": {
        "id": "C0vqjG9h5mq-"
      },
      "source": [
        "\n",
        "**(=)** :- \tAssigns values from right side operands to left side operand\n",
        "\n",
        "**(+=)** :-  Add AND\tIt adds right operand to the left operand and assign the result to left operand\n",
        "\n",
        "**(-=)** :-  Subtract AND\tIt subtracts right operand from the left operand and assign the result to left operand\n",
        "\n",
        "**(*=)** :-  Multiply AND\tIt multiplies right operand with the left operand and assign the result to left operand\n",
        "\n",
        "**(/=)** :-  Divide AND\tIt divides left operand with the right operand and assign the result to left operand\n",
        "\n",
        "**(%=)** :-  Modulus AND\tIt takes modulus using two operands and assign the result to left operand\n",
        "\n",
        "\n",
        "**( **=)** :-  Exponent AND\tPerforms exponential (power) calculation on operators and assign value to the left operand\n",
        "\n",
        "**(//=)** :- Floor Division\tIt performs floor division on operators and assign value to the left operand\n"
      ]
    },
    {
      "cell_type": "code",
      "metadata": {
        "id": "mMvj8Gz92oyX"
      },
      "source": [
        "a = 10\n",
        "b = 10\n",
        "\n",
        "\n",
        "c = a + b\n",
        "print(\"Line 1 - Value of c is \", c)\n",
        "\n",
        "c += a\n",
        "print (\"Line 2 - Value of c is \", c)\n",
        "\n",
        "c *= a\n",
        "print (\"Line 3 - Value of c is \", c)\n",
        "\n",
        "c /= a\n",
        "print (\"Line 4 - Value of c is \", c)\n",
        "\n",
        "c  = 2\n",
        "c %= a\n",
        "print (\"Line 5 - Value of c is \", c)\n",
        "\n",
        "c **= a\n",
        "print (\"Line 6 - Value of c is \", c)\n",
        "\n",
        "c //= a\n",
        "print (\"Line 7 - Value of c is \",c)"
      ],
      "execution_count": null,
      "outputs": []
    },
    {
      "cell_type": "markdown",
      "metadata": {
        "id": "0yIwOvjF8vx_"
      },
      "source": [
        "**Bitwise operators**\n",
        "\n",
        "\n",
        "---\n",
        "1. (&)\tBitwise AND\n",
        "\n",
        "1. (|) XOR\n",
        "\n",
        "1. (>>)\tBitwise right shift\n",
        "\n",
        "1. (<<)\tBitwise left shift\n",
        "\n"
      ]
    },
    {
      "cell_type": "markdown",
      "source": [
        "a = 10 = 1010 (Binary)\n",
        "b = 4 =  0100 (Binary)\n",
        "\n",
        "a & b = 1010\n",
        "         &\n",
        "        0100\n",
        "      = 0000\n",
        "      = 0 (Decimal)\n"
      ],
      "metadata": {
        "id": "dNao8PRhjQ1M"
      }
    },
    {
      "cell_type": "markdown",
      "source": [
        "a = 10 = 1010 (Binary)\n",
        "b = 4 =  0100 (Binary)\n",
        "\n",
        "a | b = 1010\n",
        "         |\n",
        "        0100\n",
        "      = 1110\n",
        "      = 14 (Decimal)"
      ],
      "metadata": {
        "id": "6h5ErDu1jT-W"
      }
    },
    {
      "cell_type": "markdown",
      "source": [
        "a = 10 = 1010 (Binary)\n",
        "              ~a is basically 1's complement of a\n",
        "~a = 1101      //1111 1101\n",
        "\n",
        "      1010     // 0000 1010\n",
        "        +1   (2's complement of a )\n",
        " -----------\n",
        "  =  1011     // 1111 1011\n",
        " -----------\n",
        "  =     -11"
      ],
      "metadata": {
        "id": "2ySXMmxhjW_t"
      }
    },
    {
      "cell_type": "markdown",
      "source": [
        "a = 10 = 1010 (Binary)\n",
        "b = 4 =  0100 (Binary)\n",
        "\n",
        "a ^ b = 1010\n",
        "         ^\n",
        "        0100\n",
        "      = 1110\n",
        "      = 14 (Decimal)\n"
      ],
      "metadata": {
        "id": "MODrT4oJjbnp"
      }
    },
    {
      "cell_type": "code",
      "metadata": {
        "id": "Rurk6yYG7RGg",
        "colab": {
          "base_uri": "https://localhost:8080/"
        },
        "outputId": "978ccc9c-40e8-4540-d2a6-454a7226f1fe"
      },
      "source": [
        "a = 60            # 60 = 0011 1100\n",
        "b = 13            # 13 = 0000 1101\n",
        "c = 0\n",
        "\n",
        "c = a & b;        # 12 = 0000 1100\n",
        "print (\"Line 1 - c = a & b is \", c)\n",
        "\n",
        "c = a | b;        # 61 = 0011 1101\n",
        "print (\"Line 2 - Value of c is \", c)\n",
        "\n",
        "c = a ^ b;        # 49 = 0011 0001\n",
        "print (\"Line 3 - c = a | b is \", c)\n",
        "\n",
        "c = ~a;           # -61 = 1100 0011\n",
        "print (\"Line 4 - c = ~a is \", c)\n",
        "\n",
        "c = a << 2;       # 240 = 1111 0000\n",
        "print (\"Line 5 - c = a << 2 is \", c)\n",
        "\n",
        "c = a >> 2;       # 15 = 0000 1111\n",
        "print (\"Line 6 - c = a >> 2 is \", c)"
      ],
      "execution_count": null,
      "outputs": [
        {
          "output_type": "stream",
          "name": "stdout",
          "text": [
            "Line 1 - c = a & b is  12\n",
            "Line 2 - Value of c is  61\n",
            "Line 3 - c = a | b is  49\n",
            "Line 4 - c = ~a is  -61\n",
            "Line 5 - c = a << 2 is  240\n",
            "Line 6 - c = a >> 2 is  15\n"
          ]
        }
      ]
    },
    {
      "cell_type": "markdown",
      "metadata": {
        "id": "K_hctVkc-VLd"
      },
      "source": [
        "**Comparison operators**\n",
        "\n",
        "\n",
        "---\n",
        "\n",
        "Comparison operators are used to compare values. It returns either `True` or `False` according to the condition."
      ]
    },
    {
      "cell_type": "markdown",
      "metadata": {
        "id": "f1_mAjn4-fyc"
      },
      "source": [
        "---\n",
        "**(==)** :-\tIf the values of two operands are equal, then the condition becomes true.\n",
        "\n",
        "**(!=)** :-\tIf values of two operands are not equal, then condition becomes true.\n",
        "\n",
        "**(<>)** :-\t\tIf values of two operands are not equal, then condition becomes true.\n",
        "\n",
        "**(>)** :-\t\tIf the value of left operand is greater than the value of right operand, then condition becomes true.\n",
        "\n",
        "**(<)** :-\t\tIf the value of left operand is less than the value of right operand, then condition becomes true.\n",
        "\n",
        "**(>=)** :-\t\tIf the value of left operand is greater than or equal to the value of right operand, then condition becomes true.\n",
        "\n",
        "**(<=)** :-\t\tIf the value of left operand is less than or equal to the value of right operand, then condition becomes true.\n",
        "\n",
        "\n",
        "---"
      ]
    },
    {
      "cell_type": "code",
      "metadata": {
        "id": "x2TCJf0s9RVA",
        "colab": {
          "base_uri": "https://localhost:8080/"
        },
        "outputId": "af9659ad-bff1-4ab0-ab7f-e18fadda062f"
      },
      "source": [
        "x = 10\n",
        "y = 12\n",
        "\n",
        "# Output: x > y is False\n",
        "print('x > y is',x>y)\n",
        "\n",
        "# Output: x < y is True\n",
        "print('x < y is',x<y)\n",
        "\n",
        "# Output: x == y is False\n",
        "print('x == y is',x==y)\n",
        "\n",
        "# Output: x != y is True\n",
        "print('x != y is',x!=y)\n",
        "\n",
        "# Output: x >= y is False\n",
        "print('x >= y is',x>=y)\n",
        "\n",
        "# Output: x <= y is True\n",
        "print('x <= y is',x<=y)"
      ],
      "execution_count": null,
      "outputs": [
        {
          "output_type": "stream",
          "name": "stdout",
          "text": [
            "x > y is False\n",
            "x < y is True\n",
            "x == y is False\n",
            "x != y is True\n",
            "x >= y is False\n",
            "x <= y is True\n"
          ]
        }
      ]
    },
    {
      "cell_type": "markdown",
      "metadata": {
        "id": "Aga92oeuAuiD"
      },
      "source": [
        "* ( and ) to check if the LHS and RHS conditions both conditions are satisfied. Basically checking for truthy values\n",
        "\n",
        "* ( or ) to check if atleast one of the side satisfy the condition. Basically checking for truthy values\n",
        "\n",
        "* ( not ) to check if the condition is not satisfied. Basically checking for falsy values"
      ]
    },
    {
      "cell_type": "markdown",
      "metadata": {
        "id": "pUuBk0ye_jbk"
      },
      "source": [
        "**Logical operators**"
      ]
    },
    {
      "cell_type": "code",
      "metadata": {
        "id": "eUuUZOqi_Zgd",
        "colab": {
          "base_uri": "https://localhost:8080/"
        },
        "outputId": "034f716b-aef8-4765-a96e-faeae01b5426"
      },
      "source": [
        "x = True\n",
        "y = False\n",
        "\n",
        "print('x and y is',x and y)\n",
        "\n",
        "print('x or y is',x or y)\n",
        "\n",
        "print('not x is',not x)"
      ],
      "execution_count": null,
      "outputs": [
        {
          "output_type": "stream",
          "name": "stdout",
          "text": [
            "x and y is False\n",
            "x or y is True\n",
            "not x is False\n"
          ]
        }
      ]
    },
    {
      "cell_type": "markdown",
      "metadata": {
        "id": "OCqbPi2OBUmU"
      },
      "source": [
        " **Identity Operators**"
      ]
    },
    {
      "cell_type": "markdown",
      "metadata": {
        "id": "6OK-qOiYBd1L"
      },
      "source": [
        "[ `is`\t] :- Evaluates to true if the variables on either side of the operator point to the same object and false otherwise.\n",
        "\n",
        "[ `is not` ] :-\tEvaluates to false if the variables on either side of the operator point to the same object and true otherwise."
      ]
    },
    {
      "cell_type": "code",
      "metadata": {
        "id": "MbKjwpCIA4ww",
        "colab": {
          "base_uri": "https://localhost:8080/"
        },
        "outputId": "40c95523-63a8-4aeb-cac6-b10621e2aa74"
      },
      "source": [
        "x1 = 5\n",
        "y1 = 5\n",
        "x2 = 'Hello'\n",
        "y2 = 'Hello'\n",
        "x3 = [1,2,3]\n",
        "y3 = [1,2,3]\n",
        "\n",
        "# Output: False\n",
        "print(x1 is not y1)\n",
        "\n",
        "# Output: True\n",
        "print(x2 is y2)\n",
        "\n",
        "# Output: False\n",
        "print(x3 is y3)"
      ],
      "execution_count": null,
      "outputs": [
        {
          "output_type": "stream",
          "name": "stdout",
          "text": [
            "False\n",
            "True\n",
            "False\n"
          ]
        }
      ]
    },
    {
      "cell_type": "markdown",
      "metadata": {
        "id": "_Zh7u244CBM9"
      },
      "source": [
        "#  Lists"
      ]
    },
    {
      "cell_type": "code",
      "source": [
        "a=\"hello world\"\n",
        "print(a[0:5])"
      ],
      "metadata": {
        "id": "pMG_nvaJcXHz",
        "colab": {
          "base_uri": "https://localhost:8080/"
        },
        "outputId": "89f1b85f-0e3b-464c-9b71-36835beed5a7"
      },
      "execution_count": null,
      "outputs": [
        {
          "output_type": "stream",
          "name": "stdout",
          "text": [
            "hello\n"
          ]
        }
      ]
    },
    {
      "cell_type": "markdown",
      "metadata": {
        "id": "rG962TrOJjlM"
      },
      "source": [
        "1. **append()**\t:- Adds an element at the end of the list\n",
        "\n",
        "1. **clear()**\t:- \tRemoves all the elements from the list\n",
        "\n",
        "1. **copy()**\t:- \tReturns a copy of the list\n",
        "\n",
        "1. **count()**\t:- \tReturns the number of elements with the specified value\n",
        "\n",
        "1. **extend()**\t:- \tAdd the elements of a list (or any iterable), to the end of the current list\n",
        "\n",
        "1. **index()**\t:- \tReturns the index of the first element with the specified value\n",
        "\n",
        "1. **insert()**\t:- \tAdds an element at the specified position\n",
        "\n",
        "1. **pop()**\t:- \tRemoves the element at the specified position\n",
        "\n",
        "1. **remove()**\t:- \tRemoves the item with the specified value\n",
        "\n",
        "1. **reverse()**\t:- \tReverses the order of the list\n",
        "\n",
        "1. **sort()**\t\t:- Sorts the list"
      ]
    },
    {
      "cell_type": "markdown",
      "metadata": {
        "id": "LlCksfHwCIeF"
      },
      "source": [
        "The list is a most versatile datatype available in Python which can be written as a list of comma-separated values (items) between square brackets. Important thing about a list is that items in a list need not be of the same type.\n",
        "\n",
        "Creating a list is as simple as putting different comma-separated values between square brackets."
      ]
    },
    {
      "cell_type": "markdown",
      "metadata": {
        "id": "5LYMYJnSCgNM"
      },
      "source": [
        "EXAMPLE :-\n"
      ]
    },
    {
      "cell_type": "code",
      "metadata": {
        "id": "YIKuXHnVCeES"
      },
      "source": [
        "list1 = ['physics', 'chemistry', 1997, 2000];\n",
        "list2 = [1, 2, 3, 4, 5 ];\n",
        "list3 = [\"a\", \"b\", \"c\", \"d\"]"
      ],
      "execution_count": null,
      "outputs": []
    },
    {
      "cell_type": "markdown",
      "metadata": {
        "id": "I5ige92jCm-b"
      },
      "source": [
        "Similar to string indices, list indices start at 0, and lists can be sliced, concatenated and so on."
      ]
    },
    {
      "cell_type": "markdown",
      "source": [],
      "metadata": {
        "id": "48mFqcm60b2c"
      }
    },
    {
      "cell_type": "markdown",
      "metadata": {
        "id": "-hIt1OiNCwnb"
      },
      "source": [
        "**Accessing Values in Lists**"
      ]
    },
    {
      "cell_type": "markdown",
      "metadata": {
        "id": "ULqgolV7C5yL"
      },
      "source": [
        "There are various ways in which we can access the elements of a list.\n",
        "\n",
        "**List Index**\n",
        "\n",
        "* We can use the index operator [] to access an item in a list. In Python, indices start at 0. So, a list having 5 elements will have an index from 0 to 4.\n",
        "\n",
        "* Trying to access indexes other than these will raise an IndexError. The index must be an integer. We can't use float or other types, this will result in TypeError.\n",
        "\n",
        "Nested lists are accessed using nested indexing."
      ]
    },
    {
      "cell_type": "markdown",
      "metadata": {
        "id": "G5oAmZzcC7gd"
      },
      "source": [
        "EXAMPLE :-"
      ]
    },
    {
      "cell_type": "code",
      "metadata": {
        "id": "rytVVtOIEEWj",
        "colab": {
          "base_uri": "https://localhost:8080/"
        },
        "outputId": "8af9bc32-4810-4751-a40b-f0f7f980edf2"
      },
      "source": [
        "# List indexing\n",
        "\n",
        "my_list = ['p', 'r', 'o', 'b', 'e']\n",
        "\n",
        "# Output: p\n",
        "print(my_list[0])\n",
        "\n",
        "# Output: o\n",
        "print(my_list[2])\n",
        "\n",
        "# Output: e\n",
        "print(my_list[4])\n",
        "\n",
        "# Nested List\n",
        "n_list = [\"Happy\", [2, 0, 1, 5]]\n",
        "\n",
        "# Nested indexing\n",
        "print(n_list[0][1])\n",
        "\n",
        "print(n_list[1][3])\n",
        "\n",
        "# Error! Only integer can be used for indexing\n",
        "#print(my_list[4.0])"
      ],
      "execution_count": null,
      "outputs": [
        {
          "output_type": "stream",
          "name": "stdout",
          "text": [
            "p\n",
            "o\n",
            "e\n",
            "a\n",
            "5\n"
          ]
        }
      ]
    },
    {
      "cell_type": "markdown",
      "metadata": {
        "id": "mvvWZ6iHEM0m"
      },
      "source": [
        "**Negative indexing**"
      ]
    },
    {
      "cell_type": "markdown",
      "metadata": {
        "id": "VZ3A9eloEQUz"
      },
      "source": [
        "* Python allows negative indexing for its sequences.\n",
        "\n",
        "* The index of -1 refers to the last item, -2 to the second last item and so on."
      ]
    },
    {
      "cell_type": "code",
      "metadata": {
        "id": "fkQBDQZiEWok"
      },
      "source": [
        "# Negative indexing in lists\n",
        "my_list = ['p','y','t','h','o','n']\n",
        "\n",
        "print(my_list[-1])\n",
        "\n",
        "print(my_list[-5])"
      ],
      "execution_count": null,
      "outputs": []
    },
    {
      "cell_type": "markdown",
      "metadata": {
        "id": "HoIVr3vJE0z0"
      },
      "source": [
        "**Change Item Value**"
      ]
    },
    {
      "cell_type": "markdown",
      "metadata": {
        "id": "y4iDaESVE1_L"
      },
      "source": [
        "* To change the value of a specific item, refer to the index number:"
      ]
    },
    {
      "cell_type": "code",
      "metadata": {
        "id": "tQrzgGkgE6nM",
        "colab": {
          "base_uri": "https://localhost:8080/"
        },
        "outputId": "df597776-bdc6-4595-8f77-da5fb8b6fe0b"
      },
      "source": [
        "thislist = [\"apple\", \"banana\", \"cherry\"]\n",
        "print(thislist)\n",
        "thislist[1] = \"blackcurrant\"\n",
        "print(thislist)"
      ],
      "execution_count": null,
      "outputs": [
        {
          "output_type": "stream",
          "name": "stdout",
          "text": [
            "['apple', 'banana', 'cherry']\n",
            "['apple', 'blackcurrant', 'cherry']\n"
          ]
        }
      ]
    },
    {
      "cell_type": "markdown",
      "metadata": {
        "id": "FcTY7mENFKik"
      },
      "source": [
        "**Change a Range of Item Values**"
      ]
    },
    {
      "cell_type": "markdown",
      "metadata": {
        "id": "JyXvPv0WFL0D"
      },
      "source": [
        "* To change the value of items within a specific range, define a list with the new values, and refer to the range of index numbers where you want to insert the new values:"
      ]
    },
    {
      "cell_type": "code",
      "metadata": {
        "id": "qr3j6ty5FSLd"
      },
      "source": [
        "thislist = [\"apple\", \"banana\", \"cherry\", \"orange\", \"kiwi\", \"mango\"]\n",
        "print(thislist)\n",
        "thislist[1:3] = [\"blackcurrant\", \"watermelon\"]\n",
        "print(thislist)"
      ],
      "execution_count": null,
      "outputs": []
    },
    {
      "cell_type": "markdown",
      "metadata": {
        "id": "9nWAcs_FFeUj"
      },
      "source": [
        "**Insert Items**"
      ]
    },
    {
      "cell_type": "markdown",
      "metadata": {
        "id": "nrLJR2gcFfjL"
      },
      "source": [
        "* To insert a new list item, without replacing any of the existing values, we can use the `insert()` method.\n",
        "\n",
        "* The `insert()` method inserts an item at the specified index:"
      ]
    },
    {
      "cell_type": "code",
      "metadata": {
        "id": "ofoA5uZYFmm6",
        "colab": {
          "base_uri": "https://localhost:8080/"
        },
        "outputId": "9d695afa-201f-45cb-cd3b-82a9423faa3e"
      },
      "source": [
        "thislist = [\"apple\", \"banana\", \"cherry\"]\n",
        "print(thislist)\n",
        "thislist.insert(2, \"watermelon\")\n",
        "print(thislist)"
      ],
      "execution_count": null,
      "outputs": [
        {
          "output_type": "stream",
          "name": "stdout",
          "text": [
            "['apple', 'banana', 'cherry']\n",
            "['apple', 'banana', 'watermelon', 'cherry']\n"
          ]
        }
      ]
    },
    {
      "cell_type": "markdown",
      "source": [],
      "metadata": {
        "id": "LeuCtR_gyvCm"
      }
    },
    {
      "cell_type": "markdown",
      "metadata": {
        "id": "jZIbQC--F2Ok"
      },
      "source": [
        "**Append Items**"
      ]
    },
    {
      "cell_type": "markdown",
      "metadata": {
        "id": "WGOQuiAxF5Ub"
      },
      "source": [
        "* To add an item to the end of the list, use the `append()` method:"
      ]
    },
    {
      "cell_type": "code",
      "metadata": {
        "id": "BuwzLGTwC9C7",
        "colab": {
          "base_uri": "https://localhost:8080/"
        },
        "outputId": "4b88b049-d01d-4e6b-95b9-7b7c6e58badf"
      },
      "source": [
        "thislist = [\"apple\", \"banana\", \"cherry\"]\n",
        "print(thislist)\n",
        "thislist.append(\"orange\")\n",
        "print(thislist)"
      ],
      "execution_count": null,
      "outputs": [
        {
          "output_type": "stream",
          "name": "stdout",
          "text": [
            "['apple', 'banana', 'cherry']\n",
            "['apple', 'banana', 'cherry', 'orange']\n"
          ]
        }
      ]
    },
    {
      "cell_type": "markdown",
      "metadata": {
        "id": "Mp1ohmJWGDzM"
      },
      "source": [
        "**Insert Items**"
      ]
    },
    {
      "cell_type": "markdown",
      "metadata": {
        "id": "ORKPkKe8GGxM"
      },
      "source": [
        "* To insert a list item at a specified index, use the `insert()`method.\n",
        "\n",
        "* The insert() method inserts an item at the specified index:"
      ]
    },
    {
      "cell_type": "code",
      "metadata": {
        "id": "P2fbS7CoF-GZ",
        "colab": {
          "base_uri": "https://localhost:8080/"
        },
        "outputId": "dbac31b5-1bf2-4e45-cf11-f7f017d8ab1a"
      },
      "source": [
        "thislist = [\"apple\", \"banana\", \"cherry\"]\n",
        "print(thislist)\n",
        "thislist.insert(1, \"orange\")\n",
        "print(thislist)"
      ],
      "execution_count": null,
      "outputs": [
        {
          "output_type": "stream",
          "name": "stdout",
          "text": [
            "['apple', 'banana', 'cherry']\n",
            "['apple', 'orange', 'banana', 'cherry']\n"
          ]
        }
      ]
    },
    {
      "cell_type": "markdown",
      "metadata": {
        "id": "E4wv_RQlGeeb"
      },
      "source": [
        "**Extend List**"
      ]
    },
    {
      "cell_type": "markdown",
      "metadata": {
        "id": "F9cS6FIwGfaz"
      },
      "source": [
        "* To append elements from another list to the current list, use the `extend()` method."
      ]
    },
    {
      "cell_type": "code",
      "metadata": {
        "id": "xKHBc6peGSLh",
        "colab": {
          "base_uri": "https://localhost:8080/"
        },
        "outputId": "e1016036-ddd7-4220-86dc-c7f4519b0df5"
      },
      "source": [
        "a = [\"apple\", \"banana\", \"cherry\"]\n",
        "b = [\"mango\", \"pineapple\", \"papaya\"]\n",
        "a.extend(b)\n",
        "print(a)"
      ],
      "execution_count": null,
      "outputs": [
        {
          "output_type": "stream",
          "name": "stdout",
          "text": [
            "['apple', 'banana', 'cherry', 'mango', 'pineapple', 'papaya']\n"
          ]
        }
      ]
    },
    {
      "cell_type": "markdown",
      "metadata": {
        "id": "yh1w0Gx4G-hj"
      },
      "source": [
        "\n",
        "\n",
        "---\n",
        "\n",
        "\n",
        "**Remove List Items**\n",
        "\n",
        "\n",
        "---\n",
        "\n"
      ]
    },
    {
      "cell_type": "markdown",
      "metadata": {
        "id": "yx0e_CDOHGSk"
      },
      "source": [
        "**Remove Specified Item**\n",
        "\n",
        "* The `remove()` method removes the specified item."
      ]
    },
    {
      "cell_type": "code",
      "metadata": {
        "id": "7uZTyBDAGpeE",
        "colab": {
          "base_uri": "https://localhost:8080/"
        },
        "outputId": "87f8c06a-c2f9-47ef-f0c4-05abcbccb3c0"
      },
      "source": [
        "thislist = [\"apple\", \"banana\", \"cherry\"]\n",
        "print(thislist)\n",
        "thislist.remove(\"banana\")\n",
        "print(thislist)"
      ],
      "execution_count": null,
      "outputs": [
        {
          "output_type": "stream",
          "name": "stdout",
          "text": [
            "['apple', 'banana', 'cherry']\n",
            "['apple', 'cherry']\n"
          ]
        }
      ]
    },
    {
      "cell_type": "markdown",
      "metadata": {
        "id": "8bVyawPTHVc7"
      },
      "source": [
        "**Remove Specified Index**\n",
        "\n",
        "* The `pop()` method removes the specified index."
      ]
    },
    {
      "cell_type": "code",
      "metadata": {
        "id": "7P9ggBPkHQPI",
        "colab": {
          "base_uri": "https://localhost:8080/"
        },
        "outputId": "c5b84a98-36a7-440a-d3e8-fc44767d8618"
      },
      "source": [
        "thislist = [\"apple\", \"banana\", \"cherry\"]\n",
        "print(thislist)\n",
        "thislist.pop(1)\n",
        "print(thislist)"
      ],
      "execution_count": null,
      "outputs": [
        {
          "output_type": "stream",
          "name": "stdout",
          "text": [
            "['apple', 'banana', 'cherry']\n",
            "['apple', 'cherry']\n"
          ]
        }
      ]
    },
    {
      "cell_type": "markdown",
      "metadata": {
        "id": "Vvo_IjnoHhzj"
      },
      "source": [
        "**NOTE** :- If you do not specify the index, the pop() method removes the last item."
      ]
    },
    {
      "cell_type": "code",
      "metadata": {
        "id": "C10dxVfsHc1Y",
        "colab": {
          "base_uri": "https://localhost:8080/"
        },
        "outputId": "08958dcd-44b7-43a9-a622-a959179c5f46"
      },
      "source": [
        "thislist = [\"apple\", \"banana\", \"cherry\"]\n",
        "print(thislist)\n",
        "thislist.pop()\n",
        "print(thislist)"
      ],
      "execution_count": null,
      "outputs": [
        {
          "output_type": "stream",
          "name": "stdout",
          "text": [
            "['apple', 'banana', 'cherry']\n",
            "['apple', 'banana']\n"
          ]
        }
      ]
    },
    {
      "cell_type": "markdown",
      "metadata": {
        "id": "p3ZXz9E2H06m"
      },
      "source": [
        "**`del` funtion**\n",
        "\n",
        "* The del keyword can also delete the list completely."
      ]
    },
    {
      "cell_type": "code",
      "metadata": {
        "id": "Px56xsgBHmaV"
      },
      "source": [
        "thislist = [\"apple\", \"banana\", \"cherry\"]\n",
        "del thislist\n",
        "# No output will be there as we have used del keyword"
      ],
      "execution_count": null,
      "outputs": []
    },
    {
      "cell_type": "markdown",
      "metadata": {
        "id": "-jnUIw_mIPvU"
      },
      "source": [
        "**Clear the List**\n",
        "\n",
        "* The `clear()` method empties the list.\n",
        "\n",
        "* The list still remains, but it has no content."
      ]
    },
    {
      "cell_type": "code",
      "metadata": {
        "id": "HO6B_bHPH0FR",
        "colab": {
          "base_uri": "https://localhost:8080/"
        },
        "outputId": "7ff28a75-3b52-404d-cebc-4781eb817f41"
      },
      "source": [
        "thislist = [\"apple\", \"banana\", \"cherry\"]\n",
        "thislist.clear()\n",
        "print(thislist)"
      ],
      "execution_count": null,
      "outputs": [
        {
          "output_type": "stream",
          "name": "stdout",
          "text": [
            "[]\n"
          ]
        }
      ]
    },
    {
      "cell_type": "markdown",
      "metadata": {
        "id": "1oscsn1HIi-r"
      },
      "source": [
        "\n",
        "\n",
        "---\n",
        "\n",
        "\n",
        "**Sort Lists**\n",
        "\n",
        "\n",
        "---\n",
        "\n"
      ]
    },
    {
      "cell_type": "markdown",
      "metadata": {
        "id": "hgoGJb_FIkYD"
      },
      "source": [
        "**Sort List Alphanumerically**\n",
        "\n",
        "* List objects have a `sort()` method that will sort the list alphanumerically, ascending, by default:"
      ]
    },
    {
      "cell_type": "code",
      "metadata": {
        "id": "pT-haywhIaCm",
        "colab": {
          "base_uri": "https://localhost:8080/"
        },
        "outputId": "1f4ec486-0774-4c5f-a86c-051a19faf35f"
      },
      "source": [
        "thislist = [\"orange\", \"mango\", \"kiwi\", \"pineapple\", \"banana\"]\n",
        "thislist.sort()\n",
        "print(thislist)"
      ],
      "execution_count": null,
      "outputs": [
        {
          "output_type": "stream",
          "name": "stdout",
          "text": [
            "['banana', 'kiwi', 'mango', 'orange', 'pineapple']\n"
          ]
        }
      ]
    },
    {
      "cell_type": "code",
      "metadata": {
        "id": "MtvvBYlnIuQm",
        "colab": {
          "base_uri": "https://localhost:8080/"
        },
        "outputId": "b491c79b-dea5-4922-d3ea-f821bdb5ecb7"
      },
      "source": [
        "thislist = [100, 50, 65, 82, 23]\n",
        "thislist.sort()\n",
        "print(thislist)"
      ],
      "execution_count": null,
      "outputs": [
        {
          "output_type": "stream",
          "name": "stdout",
          "text": [
            "[23, 50, 65, 82, 100]\n"
          ]
        }
      ]
    },
    {
      "cell_type": "markdown",
      "metadata": {
        "id": "2N80UY6-I0r6"
      },
      "source": [
        "**Sort Descending**\n",
        "* To sort descending, use the keyword argument reverse = True:"
      ]
    },
    {
      "cell_type": "code",
      "metadata": {
        "id": "gigSSXA1Iy6q",
        "colab": {
          "base_uri": "https://localhost:8080/"
        },
        "outputId": "85fa2a83-a152-4149-cdde-e4f4771a56ad"
      },
      "source": [
        "thislist = [\"orange\", \"mango\", \"kiwi\", \"pineapple\", \"banana\"]\n",
        "thislist.sort(reverse = True)\n",
        "print(thislist)"
      ],
      "execution_count": null,
      "outputs": [
        {
          "output_type": "stream",
          "name": "stdout",
          "text": [
            "['pineapple', 'orange', 'mango', 'kiwi', 'banana']\n"
          ]
        }
      ]
    },
    {
      "cell_type": "code",
      "metadata": {
        "id": "TQRZi7ahI7-u",
        "colab": {
          "base_uri": "https://localhost:8080/"
        },
        "outputId": "ae2b2eaf-eba1-4df4-bfff-265fa639536a"
      },
      "source": [
        "thislist = [100, 50, 65, 82, 23]\n",
        "thislist.sort(reverse = True)\n",
        "print(thislist)"
      ],
      "execution_count": null,
      "outputs": [
        {
          "output_type": "stream",
          "name": "stdout",
          "text": [
            "[100, 82, 65, 50, 23]\n"
          ]
        }
      ]
    },
    {
      "cell_type": "markdown",
      "metadata": {
        "id": "hoqgASa0JIUM"
      },
      "source": [
        "**Join Lists**\n",
        "\n",
        "* There are several ways to join, or concatenate, two or more lists in Python.\n",
        "\n",
        "* One of the easiest ways are by using the + operator."
      ]
    },
    {
      "cell_type": "code",
      "metadata": {
        "id": "AaDvYS2lI-qy"
      },
      "source": [
        "list1 = [\"a\", \"b\", \"c\"]\n",
        "list2 = [1, 2, 3]\n",
        "\n",
        "list3 = list1 + list2\n",
        "print(list3)"
      ],
      "execution_count": null,
      "outputs": []
    },
    {
      "cell_type": "markdown",
      "metadata": {
        "id": "VfweE4vgJaCJ"
      },
      "source": [
        "Or you can use the `extend()` method, which purpose is to add elements from one list to another list:"
      ]
    },
    {
      "cell_type": "code",
      "metadata": {
        "id": "fzs_N8_qJSA0"
      },
      "source": [
        "list1 = [\"a\", \"b\" , \"c\"]\n",
        "list2 = [1, 2, 3]\n",
        "\n",
        "list1.extend(list2)\n",
        "print(list1)"
      ],
      "execution_count": null,
      "outputs": []
    },
    {
      "cell_type": "markdown",
      "metadata": {
        "id": "DoKMjJaft-s-"
      },
      "source": [
        "# Tuples\n",
        "\n",
        "* A tuple is a collection of objects which ordered and immutable. Tuples are sequences, just like lists.\n",
        "\n",
        "* The differences between tuples and lists are, the tuples cannot be changed unlike lists and tuples use parentheses, whereas lists use square brackets.\n",
        "\n",
        "* Creating a tuple is as simple as putting different comma-separated values. Optionally you can put these comma-separated values between parentheses also."
      ]
    },
    {
      "cell_type": "code",
      "metadata": {
        "id": "ZtuBvJQ7JdHo",
        "colab": {
          "base_uri": "https://localhost:8080/"
        },
        "outputId": "35f81ed1-0e72-41ce-f649-b329e69420e7"
      },
      "source": [
        "thistuple = (\"apple\", \"banana\", \"cherry\")\n",
        "print(thistuple)"
      ],
      "execution_count": null,
      "outputs": [
        {
          "output_type": "stream",
          "name": "stdout",
          "text": [
            "('apple', 'banana', 'cherry')\n"
          ]
        }
      ]
    },
    {
      "cell_type": "markdown",
      "metadata": {
        "id": "Qi7KRTD3um5l"
      },
      "source": [
        "**Tuple Length**\n",
        "\n",
        "* To determine how many items a tuple has, use the `len() `function:"
      ]
    },
    {
      "cell_type": "code",
      "metadata": {
        "id": "oIXn71mluU-f",
        "colab": {
          "base_uri": "https://localhost:8080/"
        },
        "outputId": "aa93e211-9a0a-4ead-8c6e-5c18de6e889f"
      },
      "source": [
        "thistuple = (\"apple\", \"banana\", \"cherry\",7,8,9)\n",
        "len(thistuple)"
      ],
      "execution_count": null,
      "outputs": [
        {
          "output_type": "execute_result",
          "data": {
            "text/plain": [
              "6"
            ]
          },
          "metadata": {},
          "execution_count": 3
        }
      ]
    },
    {
      "cell_type": "code",
      "metadata": {
        "id": "Z0Hog0gRvAEJ",
        "colab": {
          "base_uri": "https://localhost:8080/"
        },
        "outputId": "2df074c6-8859-4d4a-d24a-23817ab5fc14"
      },
      "source": [
        "thistuple = (\"apple\",)\n",
        "print(type(thistuple))\n",
        "\n",
        "#NOT a tuple\n",
        "thistuple = (\"apple\")\n",
        "print(type(thistuple))"
      ],
      "execution_count": null,
      "outputs": [
        {
          "output_type": "stream",
          "name": "stdout",
          "text": [
            "<class 'tuple'>\n",
            "<class 'str'>\n"
          ]
        }
      ]
    },
    {
      "cell_type": "markdown",
      "metadata": {
        "id": "u__es9aFvX6a"
      },
      "source": [
        "**The tuple() Constructor**\n",
        "\n",
        "* It is also possible to use the `tuple()` constructor to make a tuple."
      ]
    },
    {
      "cell_type": "code",
      "metadata": {
        "id": "pO5jrt0cvREz",
        "colab": {
          "base_uri": "https://localhost:8080/"
        },
        "outputId": "620180dd-01b6-4598-f0a6-2c30e6672690"
      },
      "source": [
        "thistuple = tuple((\"apple\", \"banana\", \"cherry\")) # note the double round-brackets\n",
        "print(thistuple)"
      ],
      "execution_count": null,
      "outputs": [
        {
          "output_type": "stream",
          "name": "stdout",
          "text": [
            "('apple', 'banana', 'cherry')\n"
          ]
        }
      ]
    },
    {
      "cell_type": "markdown",
      "metadata": {
        "id": "qSS8OQXlwbxh"
      },
      "source": [
        "**Access Tuple Items**\n",
        "\n",
        "* To access values in tuple, use the square brackets for slicing along with the index or indices to obtain value available at that index."
      ]
    },
    {
      "cell_type": "markdown",
      "metadata": {
        "id": "c3sFwryIw6Cw"
      },
      "source": [
        "  * There are many ways for access tuples\n",
        "\n"
      ]
    },
    {
      "cell_type": "markdown",
      "metadata": {
        "id": "UlNwM_cRxTZE"
      },
      "source": [
        "1. **Indexing**\n",
        "\n",
        "We can use the index operator `[ ]` to access an item in a tuple, where the index starts from 0.\n",
        "\n",
        " * So, a tuple having 6 elements will have indices from 0 to 5. Trying to access an index outside of the tuple index range\n",
        "\n",
        "    (6,7,... in this example) will raise an `IndexError`.\n",
        "\n",
        " * The index must be an integer, so we cannot use float or other types. This will result in `TypeError`."
      ]
    },
    {
      "cell_type": "code",
      "metadata": {
        "id": "roz4-Sr4wIED",
        "colab": {
          "base_uri": "https://localhost:8080/"
        },
        "outputId": "5126702f-2fcc-4d32-dc4e-076a3005177f"
      },
      "source": [
        "# Accessing tuple elements using indexing\n",
        "my_tuple = ('p','y','t','h','o','n')\n",
        "\n",
        "print(my_tuple[-6])   # 'p'\n",
        "print(my_tuple[-2])   # 't'\n",
        "\n",
        "# IndexError: list index out of range\n",
        "# print(my_tuple[6])\n",
        "\n",
        "# Index must be an integer\n",
        "# TypeError: list indices must be integers, not float\n",
        "# my_tuple[2.0]\n",
        "\n",
        "# nested tuple\n",
        "n_tuple = (\"mouse\", [8, 4, 6], (1, 2, 3))\n",
        "\n",
        "# nested index\n",
        "print(n_tuple[-3][-5])       # 's'\n",
        "print(n_tuple[1][1])       # 4"
      ],
      "execution_count": null,
      "outputs": [
        {
          "output_type": "stream",
          "name": "stdout",
          "text": [
            "p\n",
            "o\n",
            "m\n",
            "4\n"
          ]
        }
      ]
    },
    {
      "cell_type": "markdown",
      "metadata": {
        "id": "PeoscM7tyRId"
      },
      "source": [
        "2. **Negative Indexing**\n",
        "\n",
        " * Python allows negative indexing for its sequences.\n",
        "\n",
        " * The index of -1 refers to the last item, -2 to the second last item and so on."
      ]
    },
    {
      "cell_type": "code",
      "metadata": {
        "id": "c5s2HAX3xhCM"
      },
      "source": [
        "# Negative indexing for accessing tuple elements\n",
        "my_tuple = ('p', 'y', 't', 'h', 'o', 'n')\n",
        "\n",
        "# Output: 't'\n",
        "print(my_tuple[-1])\n",
        "\n",
        "# Output: 'p'\n",
        "print(my_tuple[-6])"
      ],
      "execution_count": null,
      "outputs": []
    },
    {
      "cell_type": "markdown",
      "metadata": {
        "id": "p2z1HzKrytZp"
      },
      "source": [
        "3. Slicing\n",
        "\n",
        " * We can access a range of items in a tuple by using the slicing operator colon `:`  ."
      ]
    },
    {
      "cell_type": "code",
      "metadata": {
        "id": "dNmQLrNdyf9G",
        "colab": {
          "base_uri": "https://localhost:8080/"
        },
        "outputId": "48a2e489-1f4f-4a0f-e3d7-70afad78ca1b"
      },
      "source": [
        "# Accessing tuple elements using slicing\n",
        "my_tuple = ('p','y','t','h','o','n','s','i','r','j')\n",
        "\n",
        "\n",
        "print(my_tuple[1:4])\n",
        "\n",
        "\n",
        "print(my_tuple[:-7])\n",
        "\n",
        "\n",
        "print(my_tuple[7:])\n",
        "\n",
        "\n",
        "print(my_tuple[:])"
      ],
      "execution_count": null,
      "outputs": [
        {
          "output_type": "stream",
          "name": "stdout",
          "text": [
            "('y', 't', 'h')\n",
            "('p', 'y', 't')\n",
            "('i', 'r', 'j')\n",
            "('p', 'y', 't', 'h', 'o', 'n', 's', 'i', 'r', 'j')\n"
          ]
        }
      ]
    },
    {
      "cell_type": "markdown",
      "metadata": {
        "id": "GJHuUavjzV2R"
      },
      "source": [
        "**Change Tuple Values**\n",
        "\n",
        "1. Unlike lists, tuples are immutable.\n",
        "\n",
        " * This means that elements of a tuple cannot be changed once they have been assigned.\n",
        "\n",
        " * But, if the element is itself a mutable data type like a list, its nested items can be changed."
      ]
    },
    {
      "cell_type": "code",
      "metadata": {
        "id": "e_J3gINGzD_-",
        "colab": {
          "base_uri": "https://localhost:8080/"
        },
        "outputId": "68e5ae36-12a4-4de7-cecb-007500f00a8b"
      },
      "source": [
        "x = (\"apple\", \"banana\", \"cherry\")\n",
        "y = list(x)\n",
        "y[1] = \"kiwi\"\n",
        "x = tuple(y)\n",
        "print(x)"
      ],
      "execution_count": null,
      "outputs": [
        {
          "output_type": "stream",
          "name": "stdout",
          "text": [
            "('apple', 'kiwi', 'cherry')\n"
          ]
        }
      ]
    },
    {
      "cell_type": "markdown",
      "metadata": {
        "id": "OAShaFqn0PTs"
      },
      "source": [
        "**Add Items in tuple**\n",
        "\n",
        " * Once a tuple is created, you cannot add items to it.\n",
        " * For changing a tuple, you can convert it into a list, add your item(s), and convert it back into a tuple."
      ]
    },
    {
      "cell_type": "code",
      "metadata": {
        "id": "wG8EWMy1z3-q",
        "colab": {
          "base_uri": "https://localhost:8080/"
        },
        "outputId": "c7e0481d-4fc6-4ca3-dd53-618437a4a4d5"
      },
      "source": [
        "thistuple = (\"apple\", \"banana\", \"cherry\")\n",
        "y = list(thistuple)\n",
        "y.append(\"orange\")\n",
        "thistuple = tuple(y)\n",
        "print(thistuple)"
      ],
      "execution_count": null,
      "outputs": [
        {
          "output_type": "stream",
          "name": "stdout",
          "text": [
            "('apple', 'banana', 'cherry', 'orange')\n"
          ]
        }
      ]
    },
    {
      "cell_type": "markdown",
      "metadata": {
        "id": "0wPjt8I81XS8"
      },
      "source": [
        " * We can use `+` operator to combine two tuples. This is called **concatenation**.\n",
        "\n",
        " * We can also repeat the elements in a tuple for a given number of times using the `*` operator.\n",
        "\n",
        " * Both `+` and `*` operations result in a new tuple."
      ]
    },
    {
      "cell_type": "code",
      "metadata": {
        "id": "IDwwbObm07_5",
        "colab": {
          "base_uri": "https://localhost:8080/"
        },
        "outputId": "d2e89051-30d8-4b41-a2f9-1ea1a46ef5ce"
      },
      "source": [
        "# Concatenation\n",
        "# Output: (1, 2, 3, 4, 5, 6)\n",
        "print((1, 2, 3) + (4, 5, 6))\n",
        "\n",
        "# Repeat\n",
        "# Output: ('Repeat', 'Repeat', 'Repeat')\n",
        "print((\"Repeat\",) * 3)"
      ],
      "execution_count": null,
      "outputs": [
        {
          "output_type": "stream",
          "name": "stdout",
          "text": [
            "(1, 2, 3, 4, 5, 6)\n",
            "('Repeat', 'Repeat', 'Repeat')\n"
          ]
        }
      ]
    },
    {
      "cell_type": "markdown",
      "metadata": {
        "id": "WgfsB-U32LfC"
      },
      "source": [
        "**Remove Items**\n",
        " * Tuples are unchangeable, so you cannot remove items from it, but you can use the same workaround as we used for changing and adding tuple items:"
      ]
    },
    {
      "cell_type": "code",
      "metadata": {
        "id": "8LXp4fRg1_dJ"
      },
      "source": [
        "thistuple = (\"apple\", \"banana\", \"cherry\")\n",
        "y = list(thistuple)\n",
        "y.remove(\"apple\")\n",
        "thistuple = tuple(y)\n",
        "print(thistuple)"
      ],
      "execution_count": null,
      "outputs": []
    },
    {
      "cell_type": "markdown",
      "metadata": {
        "id": "EnqNZwQw2oLM"
      },
      "source": [
        "**Delete Tuple Elements**\n",
        "\n",
        " * Removing individual tuple elements is not possible. There is, of course, nothing wrong with putting together another tuple with the undesired elements discarded.\n",
        "\n",
        " * To explicitly remove an entire tuple, just use the del statement"
      ]
    },
    {
      "cell_type": "code",
      "metadata": {
        "id": "x0PszTgb2kOQ"
      },
      "source": [
        "# Deleting tuples\n",
        "my_tuple = ('p', 'y', 't', 'h', 'o', 'n', 's', 'i', 'r', 'j')\n",
        "\n",
        "del my_tuple"
      ],
      "execution_count": null,
      "outputs": []
    },
    {
      "cell_type": "markdown",
      "metadata": {
        "id": "6NZhbYGgT97c"
      },
      "source": [
        "**Unpacking a Tuple**"
      ]
    },
    {
      "cell_type": "markdown",
      "metadata": {
        "id": "pLSG3q7uUDJv"
      },
      "source": [
        " * When we create a tuple, we normally assign values to it. This is called \"packing\" a tuple:"
      ]
    },
    {
      "cell_type": "code",
      "metadata": {
        "id": "z4Px7ZwW3z5W"
      },
      "source": [
        "fruits = (\"apple\", \"banana\", \"cherry\")"
      ],
      "execution_count": null,
      "outputs": []
    },
    {
      "cell_type": "code",
      "metadata": {
        "id": "9revzhO1UGeH",
        "colab": {
          "base_uri": "https://localhost:8080/"
        },
        "outputId": "53fdfd43-0b9f-4d84-a23b-908589661478"
      },
      "source": [
        "fruits = (\"apple\", \"banana\", \"cherry\")\n",
        "\n",
        "(green, yellow, red) = fruits\n",
        "\n",
        "print(green)\n",
        "print(yellow)\n",
        "print(red)"
      ],
      "execution_count": null,
      "outputs": [
        {
          "output_type": "stream",
          "name": "stdout",
          "text": [
            "apple\n",
            "banana\n",
            "cherry\n"
          ]
        }
      ]
    },
    {
      "cell_type": "markdown",
      "metadata": {
        "id": "EQMwENeYUXoA"
      },
      "source": [
        "**Using Asterisk**  `*`"
      ]
    },
    {
      "cell_type": "markdown",
      "metadata": {
        "id": "m9txqDfJUcGQ"
      },
      "source": [
        "- If the number of variables is less than the number of values, you can add an `*` to the variable name and the values will be assigned to the variable as a list:"
      ]
    },
    {
      "cell_type": "code",
      "metadata": {
        "id": "Z6Ku3SFqULuT"
      },
      "source": [
        "fruits = (\"apple\", \"banana\", \"cherry\", \"strawberry\", \"raspberry\")\n",
        "\n",
        "(green, yellow, *red) = fruits\n",
        "\n",
        "print(green)\n",
        "print(yellow)\n",
        "print(red)"
      ],
      "execution_count": null,
      "outputs": []
    },
    {
      "cell_type": "markdown",
      "metadata": {
        "id": "r6AG5BJ3Us5T"
      },
      "source": [
        "- If the asterix is added to another variable name than the last, Python will assign values to the variable until the number of values left matches the number of variables left."
      ]
    },
    {
      "cell_type": "code",
      "metadata": {
        "id": "dr37-YtQUipf"
      },
      "source": [
        "fruits = (\"apple\", \"mango\", \"papaya\", \"pineapple\", \"cherry\")\n",
        "\n",
        "(green, *tropic, red) = fruits\n",
        "\n",
        "print(green)\n",
        "print(tropic)\n",
        "print(red)"
      ],
      "execution_count": null,
      "outputs": []
    },
    {
      "cell_type": "markdown",
      "metadata": {
        "id": "hPtuhopPU4b2"
      },
      "source": [
        " **Join Two Tuples**\n",
        "\n",
        " To join two or more tuples you can use the `+` operator:"
      ]
    },
    {
      "cell_type": "code",
      "metadata": {
        "id": "kBj8qDSHUwuR"
      },
      "source": [
        "tuple1 = (\"a\", \"b\" , \"c\")\n",
        "tuple2 = (1, 2, 3)\n",
        "print(tuple1 + tuple2)"
      ],
      "execution_count": null,
      "outputs": []
    },
    {
      "cell_type": "markdown",
      "metadata": {
        "id": "9EjG32RvVKof"
      },
      "source": [
        "**Multiply Tuples**\n",
        "\n",
        "\n",
        "If you want to multiply the content of a tuple a given number of times, you can use the `*` operator:"
      ]
    },
    {
      "cell_type": "code",
      "metadata": {
        "id": "1poMZcgqVFsm"
      },
      "source": [
        "fruits = (\"apple\", \"banana\", \"cherry\")\n",
        "mytuple = fruits * 2\n",
        "\n",
        "print(mytuple)"
      ],
      "execution_count": null,
      "outputs": []
    },
    {
      "cell_type": "markdown",
      "metadata": {
        "id": "g6BAZu-OVf2C"
      },
      "source": [
        "# Sets"
      ]
    },
    {
      "cell_type": "markdown",
      "metadata": {
        "id": "irTfCVEvVo-Z"
      },
      "source": [
        "1. A set is an unordered collection of items. Every set element is unique (no duplicates) and must be immutable (cannot be changed).\n",
        "\n",
        " * However, a set itself is mutable. We can add or remove items from it.\n",
        "\n",
        "2. Sets can also be used to perform mathematical set operations like union, intersection, symmetric difference, etc."
      ]
    },
    {
      "cell_type": "markdown",
      "metadata": {
        "id": "TDpXEetVVxl3"
      },
      "source": [
        "**Creating Python Sets**\n",
        "\n",
        " * A set is created by placing all the items (elements) inside curly braces `{}`, separated by comma, or by using the built-in `set()` function.\n",
        "\n",
        " * It can have any number of items and they may be of different types (integer, float, tuple, string etc.). But a set cannot have mutable elements like lists, sets or dictionaries as its elements."
      ]
    },
    {
      "cell_type": "code",
      "metadata": {
        "id": "eqDTrM4tV8ud"
      },
      "source": [
        "thisset = {\"apple\", \"banana\", \"cherry\"}\n",
        "print(thisset)\n",
        "\n",
        "# Different types of sets in Python\n",
        "# set of integers\n",
        "my_set = {1, 2, 3}\n",
        "print(my_set)\n",
        "\n",
        "# set of mixed datatypes\n",
        "my_set = {1.0, \"Hello\", (1, 2, 3)}\n",
        "print(my_set)"
      ],
      "execution_count": null,
      "outputs": []
    },
    {
      "cell_type": "markdown",
      "metadata": {
        "id": "Id8uvR1mXn0s"
      },
      "source": [
        "**Set Items**\n",
        "\n",
        " * Set items are unordered, unchangeable, and do not allow duplicate values.\n",
        "\n",
        "**Unordered**\n",
        "\n",
        " * Unordered means that the items in a set do not have a defined order.\n",
        "\n",
        " * Set items can appear in a different order every time you use them, and cannot be referred to by index or key.\n",
        "\n",
        "**Unchangeable**\n",
        "\n",
        "* Sets are unchangeable, meaning that we cannot change the items after the set has been created."
      ]
    },
    {
      "cell_type": "markdown",
      "metadata": {
        "id": "uuEKkNXmX19l"
      },
      "source": [
        "**Duplicates Not Allowed**\n",
        "\n",
        "Sets cannot have two items with the same value."
      ]
    },
    {
      "cell_type": "code",
      "metadata": {
        "id": "iB-rx9EsWH7L",
        "colab": {
          "base_uri": "https://localhost:8080/"
        },
        "outputId": "ced465a5-d8c5-4b3e-d528-8fbe96d8f741"
      },
      "source": [
        "thisset = {\"apple\", \"banana\", \"cherry\", \"apple\"}\n",
        "\n",
        "print(thisset)"
      ],
      "execution_count": null,
      "outputs": [
        {
          "output_type": "stream",
          "name": "stdout",
          "text": [
            "{'apple', 'banana', 'cherry'}\n"
          ]
        }
      ]
    },
    {
      "cell_type": "markdown",
      "metadata": {
        "id": "wihHLROVX9eF"
      },
      "source": [
        "**Get the Length of a Set**\n",
        "\n",
        "To determine how many items a set has, use the `len()` method."
      ]
    },
    {
      "cell_type": "code",
      "metadata": {
        "id": "wON3NCn5X6Gi",
        "colab": {
          "base_uri": "https://localhost:8080/"
        },
        "outputId": "11ffa82f-2246-4595-9d62-1f9f3c0b5ff8"
      },
      "source": [
        "thisset = {\"apple\", \"banana\", \"cherry\"}\n",
        "\n",
        "print(len(thisset))"
      ],
      "execution_count": null,
      "outputs": [
        {
          "output_type": "stream",
          "name": "stdout",
          "text": [
            "3\n"
          ]
        }
      ]
    },
    {
      "cell_type": "markdown",
      "metadata": {
        "id": "1tnsFGlKYHbj"
      },
      "source": [
        "Set Items - **Data Types**"
      ]
    },
    {
      "cell_type": "code",
      "metadata": {
        "id": "BTCxK1QJYDWZ",
        "colab": {
          "base_uri": "https://localhost:8080/"
        },
        "outputId": "7dc0642a-c7fd-4001-f1bb-98c362db164e"
      },
      "source": [
        "set1 = {\"apple\", \"banana\", \"cherry\"}\n",
        "set2 = {1, 5, 7, 9, 3}\n",
        "set3 = {True, False, False}\n",
        "\n",
        "print(set1)\n",
        "print(set2)\n",
        "print(set3)"
      ],
      "execution_count": null,
      "outputs": [
        {
          "output_type": "stream",
          "name": "stdout",
          "text": [
            "{'banana', 'cherry', 'apple'}\n",
            "{1, 3, 5, 7, 9}\n",
            "{False, True}\n"
          ]
        }
      ]
    },
    {
      "cell_type": "code",
      "metadata": {
        "id": "wgnKJpl6YKpa",
        "colab": {
          "base_uri": "https://localhost:8080/"
        },
        "outputId": "b582c63f-8191-488f-c7e1-cef2f785dfd2"
      },
      "source": [
        "set1 = {\"abc\", 34, True, 40, \"male\"}\n",
        "print(set1)"
      ],
      "execution_count": null,
      "outputs": [
        {
          "output_type": "stream",
          "name": "stdout",
          "text": [
            "{'abc', True, 34, 40, 'male'}\n"
          ]
        }
      ]
    },
    {
      "cell_type": "markdown",
      "metadata": {
        "id": "WTXJBO_xYeQN"
      },
      "source": [
        "`type()`\n",
        "\n",
        "From Python's perspective, sets are defined as objects with the data type '`set`':"
      ]
    },
    {
      "cell_type": "code",
      "metadata": {
        "id": "NG7gzvn-YUNk",
        "colab": {
          "base_uri": "https://localhost:8080/"
        },
        "outputId": "eaec1848-ec10-4065-90db-ba889d5c12fa"
      },
      "source": [
        "myset = {\"apple\", \"banana\", \"cherry\"}\n",
        "print(type(myset))"
      ],
      "execution_count": null,
      "outputs": [
        {
          "output_type": "stream",
          "name": "stdout",
          "text": [
            "<class 'set'>\n"
          ]
        }
      ]
    },
    {
      "cell_type": "markdown",
      "metadata": {
        "id": "X6WH8rhkYynQ"
      },
      "source": [
        "**Access Set Items**\n",
        "\n",
        "You cannot access items in a set by referring to an index or a key.\n",
        "\n",
        "But you can loop through the set items using a` for loop`, or ask if a specified value is present in a set, by using the `in` keyword."
      ]
    },
    {
      "cell_type": "code",
      "metadata": {
        "id": "O_6N71d2Yky2",
        "colab": {
          "base_uri": "https://localhost:8080/"
        },
        "outputId": "a7756630-b241-4839-af44-d23bc5ef6c05"
      },
      "source": [
        "thisset = {\"apple\", \"banana\", \"cherry\"}\n",
        "\n",
        "for x in thisset:\n",
        "  print(x)\n"
      ],
      "execution_count": null,
      "outputs": [
        {
          "output_type": "stream",
          "name": "stdout",
          "text": [
            "apple\n",
            "banana\n",
            "cherry\n"
          ]
        }
      ]
    },
    {
      "cell_type": "code",
      "metadata": {
        "id": "Cfk9euoZY_iG",
        "colab": {
          "base_uri": "https://localhost:8080/"
        },
        "outputId": "290a3792-5717-4c49-fa54-929d23347519"
      },
      "source": [
        "thisset = {\"apple\", \"banana\", \"cherry\"}\n",
        "\n",
        "print(\"cherry\" in thisset)"
      ],
      "execution_count": null,
      "outputs": [
        {
          "output_type": "stream",
          "name": "stdout",
          "text": [
            "True\n"
          ]
        }
      ]
    },
    {
      "cell_type": "markdown",
      "metadata": {
        "id": "FhuE6c2UZd2A"
      },
      "source": [
        "**Add Items**\n",
        "\n",
        "- To add one item to a set use the `add()` method."
      ]
    },
    {
      "cell_type": "code",
      "metadata": {
        "id": "gF-cwsfKZCxa",
        "colab": {
          "base_uri": "https://localhost:8080/"
        },
        "outputId": "6efd6e40-a7f0-469a-f3d9-57c933619f0a"
      },
      "source": [
        "thisset = {\"apple\", \"banana\", \"cherry\"}\n",
        "\n",
        "thisset.add(\"orange\")\n",
        "\n",
        "print(thisset)"
      ],
      "execution_count": null,
      "outputs": [
        {
          "output_type": "stream",
          "name": "stdout",
          "text": [
            "{'apple', 'banana', 'cherry', 'orange'}\n"
          ]
        }
      ]
    },
    {
      "cell_type": "markdown",
      "metadata": {
        "id": "NpZORIgVZ3fD"
      },
      "source": [
        "- To add items from another set into the current set, use the `update()` method"
      ]
    },
    {
      "cell_type": "code",
      "metadata": {
        "id": "j9_6YuX3ZoWE",
        "colab": {
          "base_uri": "https://localhost:8080/"
        },
        "outputId": "bf4a8b79-1634-417c-f41f-b23086278826"
      },
      "source": [
        "thisset = {\"apple\", \"banana\", \"cherry\"}\n",
        "tropical = {\"pineapple\", \"mango\", \"papaya\"}\n",
        "\n",
        "thisset.update(tropical)\n",
        "\n",
        "print(thisset)"
      ],
      "execution_count": null,
      "outputs": [
        {
          "output_type": "stream",
          "name": "stdout",
          "text": [
            "{'banana', 'cherry', 'papaya', 'pineapple', 'mango', 'apple'}\n"
          ]
        }
      ]
    },
    {
      "cell_type": "markdown",
      "metadata": {
        "id": "7eRoDQBcaJ7e"
      },
      "source": [
        "The object in the` update()` method does not have be a set, it can be any iterable object `(tuples, lists, dictionaries etc.).`"
      ]
    },
    {
      "cell_type": "code",
      "metadata": {
        "id": "JXu9Y9QCZ7P2",
        "colab": {
          "base_uri": "https://localhost:8080/"
        },
        "outputId": "152918d2-1b91-4768-abba-3de3655f3269"
      },
      "source": [
        "thisset = {\"apple\", \"banana\", \"cherry\"}\n",
        "mylist = [\"kiwi\", \"orange\"]\n",
        "\n",
        "thisset.update(mylist)\n",
        "\n",
        "print(thisset)"
      ],
      "execution_count": null,
      "outputs": [
        {
          "output_type": "stream",
          "name": "stdout",
          "text": [
            "{'apple', 'banana', 'kiwi', 'orange', 'cherry'}\n"
          ]
        }
      ]
    },
    {
      "cell_type": "markdown",
      "metadata": {
        "id": "cHVJlEE1aXxu"
      },
      "source": [
        "**Removing elements from a set**"
      ]
    },
    {
      "cell_type": "markdown",
      "metadata": {
        "id": "YDnJTUywacxW"
      },
      "source": [
        "A particular item can be removed from a set using the methods `discard()` and `remove()`.\n",
        "\n",
        "The only difference between the two is that the `discard()` function leaves a set unchanged if the element is not present in the set. On the other hand, the `remove()` function will raise an error in such a condition (if element is not present in the set)."
      ]
    },
    {
      "cell_type": "code",
      "metadata": {
        "id": "cWzUGesMaOCF",
        "colab": {
          "base_uri": "https://localhost:8080/"
        },
        "outputId": "f6caed62-ea3c-45d3-be08-ad5c48ae6af7"
      },
      "source": [
        "\n",
        "my_set = {1, 3, 4, 5, 6}\n",
        "print(my_set)\n",
        "my_set.discard(4)\n",
        "print(my_set)\n",
        "my_set.clear()\n",
        "print(my_set)\n",
        "\n",
        "\n"
      ],
      "execution_count": null,
      "outputs": [
        {
          "output_type": "stream",
          "name": "stdout",
          "text": [
            "{1, 3, 4, 5, 6}\n",
            "{1, 3, 5, 6}\n",
            "set()\n"
          ]
        }
      ]
    },
    {
      "cell_type": "markdown",
      "metadata": {
        "id": "FAehSfUGbKM2"
      },
      "source": [
        "Remove the last item by using the `pop()` method:"
      ]
    },
    {
      "cell_type": "code",
      "metadata": {
        "id": "W0SzrGQBarX7",
        "colab": {
          "base_uri": "https://localhost:8080/"
        },
        "outputId": "58053f20-fb9d-40a0-9ee3-f1e86c6afe31"
      },
      "source": [
        "thisset = {\"apple\", \"banana\", \"cherry\"}\n",
        "print(thisset)\n",
        "x = thisset.pop()\n",
        "print(x)\n",
        "print(thisset)"
      ],
      "execution_count": null,
      "outputs": [
        {
          "output_type": "stream",
          "name": "stdout",
          "text": [
            "{'apple', 'banana', 'cherry'}\n",
            "apple\n",
            "{'banana', 'cherry'}\n"
          ]
        }
      ]
    },
    {
      "cell_type": "markdown",
      "metadata": {
        "id": "HA66rL5pbmnN"
      },
      "source": [
        "**Join Two Sets**\n",
        "\n",
        "There are several ways to join two or more sets in Python.\n",
        "\n",
        "You can use the `union()` method that returns a new set containing all items from both sets, or the `update()` method that inserts all the items from one set into another:"
      ]
    },
    {
      "cell_type": "markdown",
      "metadata": {
        "id": "oeTyEwf9by8l"
      },
      "source": [
        "The `union()` method returns a new set with all items from both sets:"
      ]
    },
    {
      "cell_type": "code",
      "metadata": {
        "id": "W8Ztb_mZbDfw",
        "colab": {
          "base_uri": "https://localhost:8080/"
        },
        "outputId": "fdff314c-91c7-4a81-ee46-657fea32a163"
      },
      "source": [
        "set1 = {\"a\", \"b\" , \"c\"}\n",
        "set2 = {1, 2, 3}\n",
        "set3 = set1.union(set2)\n",
        "print(set3)\n"
      ],
      "execution_count": null,
      "outputs": [
        {
          "output_type": "stream",
          "name": "stdout",
          "text": [
            "{1, 2, 3, 'a', 'c', 'b'}\n"
          ]
        }
      ]
    },
    {
      "cell_type": "markdown",
      "metadata": {
        "id": "6FCPRCg5cBb8"
      },
      "source": [
        "The `update()` method inserts the items in set2 into set1:"
      ]
    },
    {
      "cell_type": "code",
      "metadata": {
        "id": "TCN8vdHhb3ag"
      },
      "source": [
        "set1 = {\"a\", \"b\" , \"c\"}\n",
        "set2 = {1, 2, 3}\n",
        "\n",
        "set1.update(set2)\n",
        "print(set1)"
      ],
      "execution_count": null,
      "outputs": []
    },
    {
      "cell_type": "markdown",
      "metadata": {
        "id": "mSJMDP1ecfKt"
      },
      "source": [
        "The `update()` method inserts the items in set2 into set1:"
      ]
    },
    {
      "cell_type": "code",
      "metadata": {
        "id": "qil5ROCfcGyD"
      },
      "source": [
        "set1 = {\"a\", \"b\" , \"c\"}\n",
        "set2 = {1, 2, 3}\n",
        "\n",
        "set1.update(set2)\n",
        "print(set1)"
      ],
      "execution_count": null,
      "outputs": []
    },
    {
      "cell_type": "markdown",
      "metadata": {
        "id": "w9HceAb8cxj2"
      },
      "source": [
        "Both `union()` and `update()` will exclude any duplicate items."
      ]
    },
    {
      "cell_type": "markdown",
      "metadata": {
        "id": "kN_Iup0fc17M"
      },
      "source": [
        "**Keep ONLY the Duplicates**\n",
        "\n",
        "The `intersection_update()` method will keep only the items that are present in both sets.\n",
        "\n"
      ]
    },
    {
      "cell_type": "code",
      "metadata": {
        "id": "LRxtSAugchr6",
        "colab": {
          "base_uri": "https://localhost:8080/"
        },
        "outputId": "76c4a3f8-7d97-4545-ccca-d1f3c83570e4"
      },
      "source": [
        "x = {\"apple\", \"banana\", \"cherry\"}\n",
        "y = {\"google\", \"microsoft\", \"apple\"}\n",
        "\n",
        "x.intersection_update(y)\n",
        "\n",
        "print(x)"
      ],
      "execution_count": null,
      "outputs": [
        {
          "output_type": "stream",
          "name": "stdout",
          "text": [
            "{'apple'}\n"
          ]
        }
      ]
    },
    {
      "cell_type": "markdown",
      "metadata": {
        "id": "ZFPeTFk1doWj"
      },
      "source": [
        "The `intersection(`) method will return a new set, that only contains the items that are present in both sets."
      ]
    },
    {
      "cell_type": "code",
      "metadata": {
        "id": "h4lqaG8kc7c4",
        "colab": {
          "base_uri": "https://localhost:8080/"
        },
        "outputId": "83e996b5-ecef-401f-e54b-9974ee1fcf2f"
      },
      "source": [
        "x = {\"apple\", \"banana\", \"cherry\"}\n",
        "y = {\"google\", \"microsoft\", \"apple\"}\n",
        "\n",
        "z = x.intersection(y)\n",
        "\n",
        "print(z)"
      ],
      "execution_count": null,
      "outputs": [
        {
          "output_type": "stream",
          "name": "stdout",
          "text": [
            "{'apple'}\n"
          ]
        }
      ]
    },
    {
      "cell_type": "markdown",
      "metadata": {
        "id": "eCXbFT8Idy3V"
      },
      "source": [
        "**Keep All, But NOT the Duplicates**\n",
        "\n",
        "The `symmetric_difference_update()` method will keep only the elements that are NOT present in both sets."
      ]
    },
    {
      "cell_type": "code",
      "metadata": {
        "id": "Qp7QrUiadtsM",
        "colab": {
          "base_uri": "https://localhost:8080/"
        },
        "outputId": "d5e5512a-fcb6-4e33-8e07-c23bbc519a4e"
      },
      "source": [
        "x = {\"apple\", \"banana\", \"cherry\"}\n",
        "y = {\"google\", \"microsoft\", \"apple\"}\n",
        "\n",
        "x.symmetric_difference_update(y)\n",
        "\n",
        "print(x)"
      ],
      "execution_count": null,
      "outputs": [
        {
          "output_type": "stream",
          "name": "stdout",
          "text": [
            "{'microsoft', 'banana', 'cherry', 'google'}\n"
          ]
        }
      ]
    },
    {
      "cell_type": "markdown",
      "metadata": {
        "id": "PY93bgQmd-zd"
      },
      "source": [
        "The `symmetric_difference()` method will return a new set, that contains only the elements that are NOT present in both sets."
      ]
    },
    {
      "cell_type": "code",
      "metadata": {
        "id": "9BysGj9ed5yI",
        "colab": {
          "base_uri": "https://localhost:8080/"
        },
        "outputId": "4899fb2d-bbfb-4d3c-d7e3-d329662af936"
      },
      "source": [
        "x = {\"apple\", \"banana\", \"cherry\"}\n",
        "y = {\"google\", \"microsoft\", \"apple\"}\n",
        "\n",
        "z = x.symmetric_difference(y)\n",
        "\n",
        "print(z)"
      ],
      "execution_count": null,
      "outputs": [
        {
          "output_type": "stream",
          "name": "stdout",
          "text": [
            "{'microsoft', 'banana', 'cherry', 'google'}\n"
          ]
        }
      ]
    },
    {
      "cell_type": "markdown",
      "metadata": {
        "id": "79G_ofVoe5y_"
      },
      "source": [
        "# Dictionary\n"
      ]
    },
    {
      "cell_type": "markdown",
      "metadata": {
        "id": "fkxhFU8Ke9fV"
      },
      "source": [
        "A dictionary consists of keys and values. It is helpful to compare a dictionary to a list. Instead of the numerical indexes such as a list, dictionaries have keys. These keys are the keys that are used to access values within a dictionary."
      ]
    },
    {
      "cell_type": "markdown",
      "metadata": {
        "id": "EJ9ywmK-3TNM"
      },
      "source": [
        "<img src=\"https://s3-api.us-geo.objectstorage.softlayer.net/cf-courses-data/CognitiveClass/PY0101EN/Chapter%202/Images/DictsList.png\" width=\"650\" />"
      ]
    },
    {
      "cell_type": "code",
      "metadata": {
        "id": "VtT8VXdXeDnw",
        "colab": {
          "base_uri": "https://localhost:8080/"
        },
        "outputId": "349d3565-833e-4859-bc79-1e7328178738"
      },
      "source": [
        "Dict = {\"key1\": 1, \"key2\": \"2\", \"key3\": [3, 3, 3], \"key4\": (4, 4, 4), ('key5'): 5, \"Key6\":6}\n",
        "Dict"
      ],
      "execution_count": null,
      "outputs": [
        {
          "output_type": "execute_result",
          "data": {
            "text/plain": [
              "{'key1': 1,\n",
              " 'key2': '2',\n",
              " 'key3': [3, 3, 3],\n",
              " 'key4': (4, 4, 4),\n",
              " 'key5': 5,\n",
              " 'Key6': 6}"
            ]
          },
          "metadata": {},
          "execution_count": 4
        }
      ]
    },
    {
      "cell_type": "markdown",
      "metadata": {
        "id": "xdIXM_2u3TNb"
      },
      "source": [
        "The keys can be strings:"
      ]
    },
    {
      "cell_type": "code",
      "metadata": {
        "id": "bbfx4aEtftGW",
        "colab": {
          "base_uri": "https://localhost:8080/"
        },
        "outputId": "a31c1254-f62c-4c72-d319-c8c9d2aa9cac"
      },
      "source": [
        "# Access to the value by the key\n",
        "\n",
        "Dict['key1']"
      ],
      "execution_count": null,
      "outputs": [
        {
          "output_type": "execute_result",
          "data": {
            "text/plain": [
              "1"
            ]
          },
          "metadata": {},
          "execution_count": 7
        }
      ]
    },
    {
      "cell_type": "markdown",
      "metadata": {
        "id": "zUti-YYm3TNk"
      },
      "source": [
        "Keys can also be any immutable object such as a tuple:"
      ]
    },
    {
      "cell_type": "markdown",
      "metadata": {
        "id": "wuuOhPIf3TNu"
      },
      "source": [
        " Each key is separated from its value by a colon \"<code>:</code>\".  Commas separate the items, and the whole dictionary is enclosed in curly braces. An empty dictionary without any items is written with just two curly braces, like this  \"<code>{}</code>\"."
      ]
    },
    {
      "cell_type": "code",
      "metadata": {
        "jupyter": {
          "outputs_hidden": false
        },
        "id": "N8VMd6o13TNv",
        "colab": {
          "base_uri": "https://localhost:8080/"
        },
        "outputId": "7785ec7e-fd74-4734-a015-ea15767caa68"
      },
      "source": [
        "# Create a sample dictionary\n",
        "\n",
        "release_year_dict = {\"Thriller\": \"1982\", \"Back in Black\": \"1980\", \\\n",
        "                    \"The Dark Side of the Moon\": \"1973\", \"The Bodyguard\": \"1992\", \\\n",
        "                    \"Bat Out of Hell\": \"1977\", \"Their Greatest Hits (1971-1975)\": \"1976\", \\\n",
        "                    \"Saturday Night Fever\": \"1977\", \"Rumours\": \"1977\"}\n",
        "release_year_dict"
      ],
      "execution_count": null,
      "outputs": [
        {
          "output_type": "execute_result",
          "data": {
            "text/plain": [
              "{'Thriller': '1982',\n",
              " 'Back in Black': '1980',\n",
              " 'The Dark Side of the Moon': '1973',\n",
              " 'The Bodyguard': '1992',\n",
              " 'Bat Out of Hell': '1977',\n",
              " 'Their Greatest Hits (1971-1975)': '1976',\n",
              " 'Saturday Night Fever': '1977',\n",
              " 'Rumours': '1977'}"
            ]
          },
          "metadata": {},
          "execution_count": 11
        }
      ]
    },
    {
      "cell_type": "markdown",
      "metadata": {
        "id": "IO6kWnjU3TN6"
      },
      "source": [
        "In summary, like a list, a dictionary holds a sequence of elements. Each element is represented by a key and its corresponding value. Dictionaries are created with two curly braces containing keys and values separated by a colon. For every key, there can only be one single value, however,  multiple keys can hold the same value. Keys can only be strings, numbers, or tuples, but values can be any data type."
      ]
    },
    {
      "cell_type": "markdown",
      "metadata": {
        "id": "lmFTxv-G3TN8"
      },
      "source": [
        "It is helpful to visualize the dictionary as a table, as in the following image. The first column represents the keys, the second column represents the values."
      ]
    },
    {
      "cell_type": "markdown",
      "metadata": {
        "id": "-9k-3bOn3TN-"
      },
      "source": [
        "<img src=\"https://s3-api.us-geo.objectstorage.softlayer.net/cf-courses-data/CognitiveClass/PY0101EN/Chapter%202/Images/DictsStructure.png\" width=\"650\" />"
      ]
    },
    {
      "cell_type": "markdown",
      "metadata": {
        "id": "pFceIWLE3TOA"
      },
      "source": [
        "<h3 id=\"key\">Keys</h3>"
      ]
    },
    {
      "cell_type": "markdown",
      "metadata": {
        "id": "uWvG1-MG3TOC"
      },
      "source": [
        "You can retrieve the values based on the names:"
      ]
    },
    {
      "cell_type": "code",
      "metadata": {
        "jupyter": {
          "outputs_hidden": false
        },
        "id": "90Pzz3Tj3TOE",
        "colab": {
          "base_uri": "https://localhost:8080/",
          "height": 35
        },
        "outputId": "4a125116-57bc-4397-8904-1399a347bf19"
      },
      "source": [
        "# Get value by keys\n",
        "\n",
        "release_year_dict[\"Thriller\"]"
      ],
      "execution_count": null,
      "outputs": [
        {
          "output_type": "execute_result",
          "data": {
            "text/plain": [
              "'1982'"
            ],
            "application/vnd.google.colaboratory.intrinsic+json": {
              "type": "string"
            }
          },
          "metadata": {},
          "execution_count": 12
        }
      ]
    },
    {
      "cell_type": "markdown",
      "metadata": {
        "id": "cA3-lezy3TOS"
      },
      "source": [
        "<img src=\"https://s3-api.us-geo.objectstorage.softlayer.net/cf-courses-data/CognitiveClass/PY0101EN/Chapter%202/Images/DictsKeyOne.png\" width=\"500\" />"
      ]
    },
    {
      "cell_type": "markdown",
      "metadata": {
        "id": "wJmBYaO73TOU"
      },
      "source": [
        "Similarly for <b>The Bodyguard</b>"
      ]
    },
    {
      "cell_type": "code",
      "metadata": {
        "jupyter": {
          "outputs_hidden": false
        },
        "id": "W_NSzjPG3TOW",
        "colab": {
          "base_uri": "https://localhost:8080/",
          "height": 36
        },
        "outputId": "d783a052-260e-42c8-d039-501a827ba9f7"
      },
      "source": [
        "# Get value by key\n",
        "\n",
        "release_year_dict['The Bodyguard']"
      ],
      "execution_count": null,
      "outputs": [
        {
          "output_type": "execute_result",
          "data": {
            "text/plain": [
              "'1992'"
            ],
            "application/vnd.google.colaboratory.intrinsic+json": {
              "type": "string"
            }
          },
          "metadata": {},
          "execution_count": 38
        }
      ]
    },
    {
      "cell_type": "markdown",
      "metadata": {
        "id": "T1yFGgC_3TOd"
      },
      "source": [
        "<img src=\"https://s3-api.us-geo.objectstorage.softlayer.net/cf-courses-data/CognitiveClass/PY0101EN/Chapter%202/Images/DictsKeyTwo.png\" width=\"500\" />"
      ]
    },
    {
      "cell_type": "markdown",
      "metadata": {
        "id": "jsP3jvU83TOe"
      },
      "source": [
        "Now let you retrieve the keys of the dictionary using the method <code>release_year_dict()</code>:"
      ]
    },
    {
      "cell_type": "code",
      "metadata": {
        "jupyter": {
          "outputs_hidden": false
        },
        "id": "joIWKSrE3TOf",
        "colab": {
          "base_uri": "https://localhost:8080/"
        },
        "outputId": "3e9e3647-fd7a-400d-9827-faf7ed7d52e1"
      },
      "source": [
        "# Get all the keys in dictionary\n",
        "release_year_dict.keys()"
      ],
      "execution_count": null,
      "outputs": [
        {
          "output_type": "execute_result",
          "data": {
            "text/plain": [
              "dict_keys(['Thriller', 'Back in Black', 'The Dark Side of the Moon', 'The Bodyguard', 'Bat Out of Hell', 'Their Greatest Hits (1971-1975)', 'Saturday Night Fever', 'Rumours'])"
            ]
          },
          "metadata": {},
          "execution_count": 13
        }
      ]
    },
    {
      "cell_type": "markdown",
      "metadata": {
        "id": "6zYm_NdO3TOp"
      },
      "source": [
        "You can retrieve the values using the method  <code>values()</code>:"
      ]
    },
    {
      "cell_type": "code",
      "metadata": {
        "jupyter": {
          "outputs_hidden": false
        },
        "id": "mDYA-eoi3TOr",
        "colab": {
          "base_uri": "https://localhost:8080/"
        },
        "outputId": "ec212fe6-2b8d-440a-918a-c49d7504d193"
      },
      "source": [
        "# Get all the values in dictionary\n",
        "\n",
        "release_year_dict.values()"
      ],
      "execution_count": null,
      "outputs": [
        {
          "output_type": "execute_result",
          "data": {
            "text/plain": [
              "dict_values(['1982', '1980', '1973', '1992', '1977', '1976', '1977', '1977'])"
            ]
          },
          "metadata": {},
          "execution_count": 14
        }
      ]
    },
    {
      "cell_type": "markdown",
      "metadata": {
        "id": "gIrS8hwy3TOw"
      },
      "source": [
        "We can add an entry:"
      ]
    },
    {
      "cell_type": "code",
      "metadata": {
        "jupyter": {
          "outputs_hidden": false
        },
        "id": "iOb4wq-O3TOx",
        "colab": {
          "base_uri": "https://localhost:8080/"
        },
        "outputId": "29c29c04-1fa2-4adc-9945-4f22f66fe3c4"
      },
      "source": [
        "# Append value with key into dictionary\n",
        "release_year_dict['Graduation'] = '2007'\n",
        "release_year_dict"
      ],
      "execution_count": null,
      "outputs": [
        {
          "output_type": "execute_result",
          "data": {
            "text/plain": [
              "{'Back in Black': '1980',\n",
              " 'The Dark Side of the Moon': '1973',\n",
              " 'The Bodyguard': '1992',\n",
              " 'Bat Out of Hell': '1977',\n",
              " 'Their Greatest Hits (1971-1975)': '1976',\n",
              " 'Saturday Night Fever': '1977',\n",
              " 'Rumours': '1977',\n",
              " 'Graduation': '2007'}"
            ]
          },
          "metadata": {},
          "execution_count": 20
        }
      ]
    },
    {
      "cell_type": "markdown",
      "metadata": {
        "id": "RJP82zrW3TO-"
      },
      "source": [
        "We can delete an entry:"
      ]
    },
    {
      "cell_type": "code",
      "metadata": {
        "jupyter": {
          "outputs_hidden": false
        },
        "id": "Ylgv-IbH3TO_"
      },
      "source": [
        "# Delete entries by key\n",
        "del(release_year_dict['Graduation'])\n"
      ],
      "execution_count": null,
      "outputs": []
    },
    {
      "cell_type": "markdown",
      "metadata": {
        "id": "XVOfrtD93TPF"
      },
      "source": [
        " We can verify if an element is in the dictionary:"
      ]
    },
    {
      "cell_type": "code",
      "metadata": {
        "jupyter": {
          "outputs_hidden": false
        },
        "id": "Pgs-xw2e3TPF",
        "colab": {
          "base_uri": "https://localhost:8080/"
        },
        "outputId": "c6597689-3dbc-44d1-cdf1-6c02c757d53d"
      },
      "source": [
        "# Verify the key is in the dictionary\n",
        "\n",
        "'Atharva' in release_year_dict"
      ],
      "execution_count": null,
      "outputs": [
        {
          "output_type": "execute_result",
          "data": {
            "text/plain": [
              "False"
            ]
          },
          "metadata": {},
          "execution_count": 18
        }
      ]
    },
    {
      "cell_type": "markdown",
      "metadata": {
        "id": "3vXrg8CGyDpN"
      },
      "source": [
        "# **Loops:**\n",
        "In general, statements are executed sequentially. The first statement in a function is executed first, followed by the second, and so on.\n",
        "\n",
        "There may be a situation when you need to execute a block of code several number of times\n",
        "A loop statement allows us to execute a statement or group of statements multiple times.\n",
        "\n",
        "In Python, there are three loops:\n",
        "\n",
        "1.  While\n",
        "2.  For\n",
        "3.  Nested"
      ]
    },
    {
      "cell_type": "markdown",
      "metadata": {
        "id": "3yS_xeHniWbS"
      },
      "source": [
        "before we go into loops understand range() function"
      ]
    },
    {
      "cell_type": "markdown",
      "metadata": {
        "id": "aaq0JzAh_wtt"
      },
      "source": [
        "<h3 id=\"range\">Range</h3>"
      ]
    },
    {
      "cell_type": "markdown",
      "metadata": {
        "id": "JmSlISPY_wtu"
      },
      "source": [
        "Sometimes, you might want to repeat a given operation many times. Repeated executions like this are performed by <b>loops</b>. We will look at two types of loops, <code>for</code> loops and <code>while</code> loops.\n",
        "\n",
        "Before we discuss loops lets discuss the <code>range</code> object. It is helpful to think of the range object as an ordered list. For now, let's look at the simplest case. If we would like to generate a sequence that contains three elements ordered from 0 to 2 we simply use the following command:"
      ]
    },
    {
      "cell_type": "code",
      "metadata": {
        "id": "HxhvbGoe_wtw",
        "colab": {
          "base_uri": "https://localhost:8080/"
        },
        "outputId": "598f9164-2f5e-4c72-c75b-4f257420cded"
      },
      "source": [
        "# Use the range\n",
        "\n",
        "range(3)"
      ],
      "execution_count": null,
      "outputs": [
        {
          "output_type": "execute_result",
          "data": {
            "text/plain": [
              "range(0, 3)"
            ]
          },
          "metadata": {},
          "execution_count": 22
        }
      ]
    },
    {
      "cell_type": "markdown",
      "metadata": {
        "id": "2G2TFmj9_wt6"
      },
      "source": [
        "<img src=\"https://s3-api.us-geo.objectstorage.softlayer.net/cf-courses-data/CognitiveClass/PY0101EN/Chapter%203/Images/LoopsRange.png\" width=\"300\" />"
      ]
    },
    {
      "cell_type": "markdown",
      "metadata": {
        "id": "b003Htyd_wt7"
      },
      "source": [
        "<h3 id=\"for\">What is <code>for</code> loop?</h3>"
      ]
    },
    {
      "cell_type": "markdown",
      "metadata": {
        "id": "q7273OV5_wt9"
      },
      "source": [
        "The <code>for</code> loop enables you to execute a code block multiple times. For example, you would use this if you would like to print out every element in a list.\n",
        "Let's try to use a <code>for</code> loop to print all the years presented in the list <code>dates</code>:"
      ]
    },
    {
      "cell_type": "code",
      "source": [
        "for i in range(0,11):\n",
        "  print(5*i)"
      ],
      "metadata": {
        "colab": {
          "base_uri": "https://localhost:8080/"
        },
        "id": "gxe5YUf_VJRI",
        "outputId": "7dbc622a-3602-41a2-e2e6-422920cea231"
      },
      "execution_count": null,
      "outputs": [
        {
          "output_type": "stream",
          "name": "stdout",
          "text": [
            "0\n",
            "5\n",
            "10\n",
            "15\n",
            "20\n",
            "25\n",
            "30\n",
            "35\n",
            "40\n",
            "45\n",
            "50\n"
          ]
        }
      ]
    },
    {
      "cell_type": "code",
      "metadata": {
        "id": "NbmlQFFD_wt_",
        "colab": {
          "base_uri": "https://localhost:8080/"
        },
        "outputId": "19aecb30-7ae4-4714-b606-85b7d717b8f5"
      },
      "source": [
        "# For loop example\n",
        "\n",
        "dates = [2,7,5,3]\n",
        "N = len(dates)\n",
        "\n",
        "for i in range(N):\n",
        "    print(dates[i])"
      ],
      "execution_count": null,
      "outputs": [
        {
          "output_type": "stream",
          "name": "stdout",
          "text": [
            "2\n",
            "7\n",
            "5\n",
            "3\n"
          ]
        }
      ]
    },
    {
      "cell_type": "markdown",
      "metadata": {
        "id": "ZxDH5jRQ_wuF"
      },
      "source": [
        "The code in the indent is executed <code>N</code> times, each time the value of <code>i</code> is increased by 1 for every execution. The statement executed is to <code>print</code> out the value in the list at index <code>i</code> as shown here:"
      ]
    },
    {
      "cell_type": "markdown",
      "metadata": {
        "id": "V88OzHjR_wuM"
      },
      "source": [
        "<img src=\"https://s3-api.us-geo.objectstorage.softlayer.net/cf-courses-data/CognitiveClass/PY0101EN/Chapter%203/Images/LoopsForRange.gif\" width=\"800\" />"
      ]
    },
    {
      "cell_type": "markdown",
      "metadata": {
        "id": "1SDyUNJ3_wuO"
      },
      "source": [
        "In this example we can print out a sequence of numbers from 0 to 7:"
      ]
    },
    {
      "cell_type": "code",
      "metadata": {
        "id": "klO15MA3_wuP",
        "colab": {
          "base_uri": "https://localhost:8080/",
          "height": 217
        },
        "outputId": "d6391013-e7ee-4801-aa9a-ebc6d2f2fe4d"
      },
      "source": [
        "# Example of for loop\n",
        "\n",
        "for i in range(reversed(11)):\n",
        "     print(i)"
      ],
      "execution_count": null,
      "outputs": [
        {
          "output_type": "error",
          "ename": "TypeError",
          "evalue": "ignored",
          "traceback": [
            "\u001b[0;31m---------------------------------------------------------------------------\u001b[0m",
            "\u001b[0;31mTypeError\u001b[0m                                 Traceback (most recent call last)",
            "\u001b[0;32m<ipython-input-27-2651a3015bda>\u001b[0m in \u001b[0;36m<module>\u001b[0;34m\u001b[0m\n\u001b[1;32m      1\u001b[0m \u001b[0;31m# Example of for loop\u001b[0m\u001b[0;34m\u001b[0m\u001b[0;34m\u001b[0m\u001b[0;34m\u001b[0m\u001b[0m\n\u001b[1;32m      2\u001b[0m \u001b[0;34m\u001b[0m\u001b[0m\n\u001b[0;32m----> 3\u001b[0;31m \u001b[0;32mfor\u001b[0m \u001b[0mi\u001b[0m \u001b[0;32min\u001b[0m \u001b[0mrange\u001b[0m\u001b[0;34m(\u001b[0m\u001b[0mreversed\u001b[0m\u001b[0;34m(\u001b[0m\u001b[0;36m11\u001b[0m\u001b[0;34m)\u001b[0m\u001b[0;34m)\u001b[0m\u001b[0;34m:\u001b[0m\u001b[0;34m\u001b[0m\u001b[0;34m\u001b[0m\u001b[0m\n\u001b[0m\u001b[1;32m      4\u001b[0m      \u001b[0mprint\u001b[0m\u001b[0;34m(\u001b[0m\u001b[0mi\u001b[0m\u001b[0;34m)\u001b[0m\u001b[0;34m\u001b[0m\u001b[0;34m\u001b[0m\u001b[0m\n",
            "\u001b[0;31mTypeError\u001b[0m: 'int' object is not reversible"
          ]
        }
      ]
    },
    {
      "cell_type": "markdown",
      "metadata": {
        "id": "mh8aH7Dv_wuY"
      },
      "source": [
        "In Python we can directly access the elements in the list as follows:"
      ]
    },
    {
      "cell_type": "code",
      "metadata": {
        "id": "cA54xqTL_wuZ"
      },
      "source": [
        "# Exmaple of for loop, loop through list\n",
        "\n",
        "for year in dates:\n",
        "    print(year)"
      ],
      "execution_count": null,
      "outputs": []
    },
    {
      "cell_type": "markdown",
      "metadata": {
        "id": "5IeoT6vK_wuf"
      },
      "source": [
        "For each iteration, the value of the variable <code>years</code> behaves like the value of <code>dates[i]</code> in the  first example:"
      ]
    },
    {
      "cell_type": "markdown",
      "metadata": {
        "id": "bFnYrgid_wug"
      },
      "source": [
        "<img src=\"https://s3-api.us-geo.objectstorage.softlayer.net/cf-courses-data/CognitiveClass/PY0101EN/Chapter%203/Images/LoopsForList.gif\" width=\"800\">"
      ]
    },
    {
      "cell_type": "markdown",
      "metadata": {
        "id": "k8hjABtv_wuh"
      },
      "source": [
        "We can change the elements in a list:"
      ]
    },
    {
      "cell_type": "code",
      "metadata": {
        "id": "5RKQt6Uh_wuj",
        "colab": {
          "base_uri": "https://localhost:8080/"
        },
        "outputId": "646ba13e-abdc-42bb-9079-4d265b8a572a"
      },
      "source": [
        "# Use for loop to change the elements in list\n",
        "\n",
        "squares = ['red', 'yellow', 'green', 'purple', 'blue']\n",
        "\n",
        "for i in range(0, 5):\n",
        "    print(\"Before square \", i, 'is',  squares[i])\n",
        "    squares[i] = 'Atharva'\n",
        "    print(\"After square \", i, 'is',  squares[i])"
      ],
      "execution_count": null,
      "outputs": [
        {
          "output_type": "stream",
          "name": "stdout",
          "text": [
            "Before square  0 is red\n",
            "After square  0 is Atharva\n",
            "Before square  1 is yellow\n",
            "After square  1 is Atharva\n",
            "Before square  2 is green\n",
            "After square  2 is Atharva\n",
            "Before square  3 is purple\n",
            "After square  3 is Atharva\n",
            "Before square  4 is blue\n",
            "After square  4 is Atharva\n"
          ]
        }
      ]
    },
    {
      "cell_type": "markdown",
      "metadata": {
        "id": "HuDwxvDL_wuq"
      },
      "source": [
        " We can access the index and the elements of a list as follows:"
      ]
    },
    {
      "cell_type": "code",
      "metadata": {
        "id": "09FwyYlp_wus",
        "colab": {
          "base_uri": "https://localhost:8080/"
        },
        "outputId": "642b206a-9bf0-46d1-b7e7-90498ee4d6e7"
      },
      "source": [
        "# Loop through the list and iterate on both index and element value\n",
        "\n",
        "squares=['red', 'yellow', 'green', 'purple', 'blue']\n",
        "\n",
        "for i, square in enumerate(squares):\n",
        "    print(i, square)"
      ],
      "execution_count": null,
      "outputs": [
        {
          "output_type": "stream",
          "name": "stdout",
          "text": [
            "0 red\n",
            "1 yellow\n",
            "2 green\n",
            "3 purple\n",
            "4 blue\n"
          ]
        }
      ]
    },
    {
      "cell_type": "markdown",
      "metadata": {
        "id": "7G23JdE3_wu0"
      },
      "source": [
        "<h3 id=\"while\">What is <code>while</code> loop?</h3>"
      ]
    },
    {
      "cell_type": "markdown",
      "metadata": {
        "id": "I4n4meN5_wu2"
      },
      "source": [
        "As you can see, the <code>for</code> loop is used for a controlled flow of repetition. However, what if we don't know when we want to stop the loop? What if we want to keep executing a code block until a certain condition is met? The <code>while</code> loop exists as a tool for repeated execution based on a condition. The code block will keep being executed until the given logical condition returns a **False** boolean value.\n"
      ]
    },
    {
      "cell_type": "code",
      "metadata": {
        "id": "taFvS3QU_wu5",
        "colab": {
          "base_uri": "https://localhost:8080/"
        },
        "outputId": "249dfee4-732a-44ec-eb61-26eef7f589c4"
      },
      "source": [
        "# While Loop Example\n",
        "\n",
        "dates = [1982, 1980, 1973, 2000]\n",
        "\n",
        "i = 0\n",
        "year = 0\n",
        "\n",
        "while(year != 2000):\n",
        "    year = dates[i]\n",
        "    i = i + 1\n",
        "    print(year)\n",
        "\n",
        "print(\"It took \", i ,\"repetitions to get out of loop.\")"
      ],
      "execution_count": null,
      "outputs": [
        {
          "output_type": "stream",
          "name": "stdout",
          "text": [
            "1982\n",
            "1980\n",
            "1973\n",
            "2000\n",
            "It took  4 repetitions to get out of loop.\n"
          ]
        }
      ]
    },
    {
      "cell_type": "markdown",
      "metadata": {
        "id": "plesPhQk_wvH"
      },
      "source": [
        "<img src=\"https://s3-api.us-geo.objectstorage.softlayer.net/cf-courses-data/CognitiveClass/PY0101EN/Chapter%203/Images/LoopsWhile.gif\" width=\"650\" />"
      ]
    },
    {
      "cell_type": "markdown",
      "metadata": {
        "id": "u64LQwaoY3sn"
      },
      "source": [
        "# **Functions:**\n",
        "\n",
        "Functions are a convenient way to divide your code into useful blocks, allowing us to order our code, make it more readable, reuse it and save some time."
      ]
    },
    {
      "cell_type": "markdown",
      "metadata": {
        "id": "41Sl4Q_RZOqY"
      },
      "source": [
        "**Define a function with no arguments and no return values:**"
      ]
    },
    {
      "cell_type": "code",
      "metadata": {
        "id": "7lPlGuNiY_xP"
      },
      "source": [
        "def print_text():\n",
        "    print('this is text')"
      ],
      "execution_count": null,
      "outputs": []
    },
    {
      "cell_type": "code",
      "metadata": {
        "id": "_9uSsLHPZKi5",
        "colab": {
          "base_uri": "https://localhost:8080/"
        },
        "outputId": "4dec2f7a-dacc-4ccf-97cd-d641d05b43c6"
      },
      "source": [
        "# call the function\n",
        "print_text()"
      ],
      "execution_count": null,
      "outputs": [
        {
          "output_type": "stream",
          "name": "stdout",
          "text": [
            "this is text\n"
          ]
        }
      ]
    },
    {
      "cell_type": "markdown",
      "metadata": {
        "id": "2iYTL18xZS6Q"
      },
      "source": [
        "**Define a function with one argument and no return values:**"
      ]
    },
    {
      "cell_type": "code",
      "metadata": {
        "id": "Vo-cD2OxZUuB"
      },
      "source": [
        "def print_this(x):\n",
        "    print(x)"
      ],
      "execution_count": null,
      "outputs": []
    },
    {
      "cell_type": "code",
      "metadata": {
        "id": "7D16LaH5ZWHY",
        "colab": {
          "base_uri": "https://localhost:8080/"
        },
        "outputId": "4050c9d9-1d48-49de-c00b-e66c879c3594"
      },
      "source": [
        "# call the function\n",
        "print_this(55)"
      ],
      "execution_count": null,
      "outputs": [
        {
          "output_type": "stream",
          "name": "stdout",
          "text": [
            "55\n"
          ]
        }
      ]
    },
    {
      "cell_type": "code",
      "source": [
        "def conv(rs):\n",
        "  dollars = rs/82.825\n",
        "  print(dollars)"
      ],
      "metadata": {
        "id": "7Ss5vFNLiavt"
      },
      "execution_count": null,
      "outputs": []
    },
    {
      "cell_type": "code",
      "source": [
        "conv(200)"
      ],
      "metadata": {
        "colab": {
          "base_uri": "https://localhost:8080/"
        },
        "id": "n3hoCQN3iz50",
        "outputId": "46ebb655-6460-48e5-d21e-09882305bbdd"
      },
      "execution_count": null,
      "outputs": [
        {
          "output_type": "stream",
          "name": "stdout",
          "text": [
            "2.4147298520977967\n"
          ]
        }
      ]
    },
    {
      "cell_type": "code",
      "source": [
        "conv(3000)"
      ],
      "metadata": {
        "colab": {
          "base_uri": "https://localhost:8080/"
        },
        "id": "yN6TJYmKi9Ny",
        "outputId": "73b8f227-dd7f-491e-a1a2-cdb8724d3fda"
      },
      "execution_count": null,
      "outputs": [
        {
          "output_type": "stream",
          "name": "stdout",
          "text": [
            "36.22094778146695\n"
          ]
        }
      ]
    },
    {
      "cell_type": "markdown",
      "metadata": {
        "id": "35bK9N-FZbsg"
      },
      "source": [
        "**Define a function with one argument and one return value:**"
      ]
    },
    {
      "cell_type": "code",
      "metadata": {
        "id": "z1jqUXCiZfk5",
        "colab": {
          "base_uri": "https://localhost:8080/"
        },
        "outputId": "2cfe996f-db6a-40b3-80e3-d9b075acddd8"
      },
      "source": [
        "def square(x):\n",
        "    return x**2\n",
        "\n",
        "square(5)"
      ],
      "execution_count": null,
      "outputs": [
        {
          "output_type": "execute_result",
          "data": {
            "text/plain": [
              "25"
            ]
          },
          "metadata": {},
          "execution_count": 46
        }
      ]
    },
    {
      "cell_type": "code",
      "metadata": {
        "id": "ne0NdmCn5ul9"
      },
      "source": [
        "#Example\n",
        "\n",
        "def calc(a, b, op):\n",
        "\n",
        "    if op == 'add':\n",
        "        return a + b\n",
        "\n",
        "    elif op == 'sub':\n",
        "        return a - b\n",
        "    else:\n",
        "        print('Invalid operations ')"
      ],
      "execution_count": null,
      "outputs": []
    },
    {
      "cell_type": "code",
      "metadata": {
        "id": "hH_4MlBcaOjZ",
        "colab": {
          "base_uri": "https://localhost:8080/"
        },
        "outputId": "8a62a2c1-a8f8-4302-eb1a-9a6231111eaa"
      },
      "source": [
        "# call the function\n",
        "calc(109000, 42501, 'add')"
      ],
      "execution_count": null,
      "outputs": [
        {
          "output_type": "execute_result",
          "data": {
            "text/plain": [
              "151501"
            ]
          },
          "metadata": {},
          "execution_count": 49
        }
      ]
    },
    {
      "cell_type": "code",
      "metadata": {
        "id": "TnLSMIGeahaZ",
        "colab": {
          "base_uri": "https://localhost:8080/"
        },
        "outputId": "82028943-1be3-4253-d163-d305370cfd94"
      },
      "source": [
        "calc(10, 4, 'sub')"
      ],
      "execution_count": null,
      "outputs": [
        {
          "output_type": "execute_result",
          "data": {
            "text/plain": [
              "6"
            ]
          },
          "metadata": {},
          "execution_count": 50
        }
      ]
    },
    {
      "cell_type": "markdown",
      "source": [
        "Conditional Statements\n"
      ],
      "metadata": {
        "id": "whV53Kt5e76B"
      }
    },
    {
      "cell_type": "code",
      "source": [
        "marks =66\n",
        "if marks>25 and marks < 50:\n",
        "  print(\"a\")\n",
        "elif marks >50:\n",
        "  print(\"b\")\n",
        "else:\n",
        "  print(\"fail\")"
      ],
      "metadata": {
        "colab": {
          "base_uri": "https://localhost:8080/"
        },
        "id": "x2fe_4edfDOZ",
        "outputId": "6d7813e1-b032-4b64-b9fc-187deec4fb75"
      },
      "execution_count": null,
      "outputs": [
        {
          "output_type": "stream",
          "name": "stdout",
          "text": [
            "b\n"
          ]
        }
      ]
    },
    {
      "cell_type": "code",
      "metadata": {
        "id": "D0YCawyRiJZU",
        "colab": {
          "base_uri": "https://localhost:8080/",
          "height": 130
        },
        "outputId": "5b9a699b-646d-4eb5-8406-c3b34fd990a7"
      },
      "source": [
        "marks = int (input(\"Enter marks : \"))\n",
        "\n",
        "if (marks < 25):\n",
        "  print(\"Oops! you have got F grade \")\n",
        "\n",
        "elif marks >= 25 and marks < 45:\n",
        "  print(\"it was little good you got E grade\")\n",
        "\n",
        "elif marks >= 45 and marks < 50:\n",
        "  print(\" you can do more not bad you have got D grade \")\n",
        "\n",
        "elif marks >= 50 and marks < 60:\n",
        "  print(\"A little more push you can do more by the way we have got C grade\")\n",
        "elif marks >= 60 and marks < 80:\n",
        "  print(\"Cool !! you can now chase the topper !! you got B grade\")\n",
        "else:\n",
        "  print(\"You are now the topper but not the dam winner by the way you got A grade\")"
      ],
      "execution_count": null,
      "outputs": [
        {
          "output_type": "error",
          "ename": "SyntaxError",
          "evalue": "ignored",
          "traceback": [
            "\u001b[0;36m  File \u001b[0;32m\"<ipython-input-56-abe7e445110e>\"\u001b[0;36m, line \u001b[0;32m17\u001b[0m\n\u001b[0;31m    print(\"You are now the topper but not the dam winner by the way you got A grade\"\u001b[0m\n\u001b[0m                                                                                    ^\u001b[0m\n\u001b[0;31mSyntaxError\u001b[0m\u001b[0;31m:\u001b[0m unexpected EOF while parsing\n"
          ]
        }
      ]
    },
    {
      "cell_type": "markdown",
      "source": [
        "# Exception Handling"
      ],
      "metadata": {
        "id": "V0LapzjPAKbk"
      }
    },
    {
      "cell_type": "markdown",
      "source": [
        "\n",
        "\n",
        "```\n",
        "try:\n",
        "    # Some Code....\n",
        "\n",
        "except:\n",
        "    # optional block\n",
        "    # Handling of exception (if required)\n",
        "\n",
        "else:\n",
        "    # execute if no exception\n",
        "\n",
        "finally:\n",
        "    # Some code .....(always executed)\n",
        "```\n",
        "\n"
      ],
      "metadata": {
        "id": "yJktyDLvATRf"
      }
    },
    {
      "cell_type": "code",
      "metadata": {
        "id": "3l4Iv7cUUR0B",
        "colab": {
          "base_uri": "https://localhost:8080/"
        },
        "outputId": "71cd18a6-696b-4b63-9c48-c0d8dd1ccd5d"
      },
      "source": [
        "try:\n",
        "    k = 5/0\n",
        "    print(k)\n",
        "\n",
        "except ZeroDivisionError:\n",
        "    print(\"Can't divide by zero\")\n",
        "\n",
        "finally:\n",
        "    print('This is always executed')"
      ],
      "execution_count": null,
      "outputs": [
        {
          "output_type": "stream",
          "name": "stdout",
          "text": [
            "Can't divide by zero\n",
            "This is always executed\n"
          ]
        }
      ]
    },
    {
      "cell_type": "markdown",
      "source": [
        "<h1>Raise an exception<h1>"
      ],
      "metadata": {
        "id": "c5EADOzuBemi"
      }
    },
    {
      "cell_type": "markdown",
      "source": [
        "To throw an exception if a condition occurs.\n",
        "\n",
        "To throw (or raise) an exception, use the    `raise`   keyword."
      ],
      "metadata": {
        "id": "el3v9q_BBxfa"
      }
    },
    {
      "cell_type": "code",
      "source": [
        "x = -1\n",
        "\n",
        "if x < 0:\n",
        "  raise Exception(\"Sorry, no numbers below zero\")"
      ],
      "metadata": {
        "id": "4KgnWX_fAky3",
        "colab": {
          "base_uri": "https://localhost:8080/",
          "height": 200
        },
        "outputId": "d449bc18-9789-4e53-d3e7-c28bb11ef80c"
      },
      "execution_count": null,
      "outputs": [
        {
          "output_type": "error",
          "ename": "Exception",
          "evalue": "ignored",
          "traceback": [
            "\u001b[0;31m---------------------------------------------------------------------------\u001b[0m",
            "\u001b[0;31mException\u001b[0m                                 Traceback (most recent call last)",
            "\u001b[0;32m<ipython-input-2-2edc57024fbc>\u001b[0m in \u001b[0;36m<cell line: 3>\u001b[0;34m()\u001b[0m\n\u001b[1;32m      2\u001b[0m \u001b[0;34m\u001b[0m\u001b[0m\n\u001b[1;32m      3\u001b[0m \u001b[0;32mif\u001b[0m \u001b[0mx\u001b[0m \u001b[0;34m<\u001b[0m \u001b[0;36m0\u001b[0m\u001b[0;34m:\u001b[0m\u001b[0;34m\u001b[0m\u001b[0;34m\u001b[0m\u001b[0m\n\u001b[0;32m----> 4\u001b[0;31m   \u001b[0;32mraise\u001b[0m \u001b[0mException\u001b[0m\u001b[0;34m(\u001b[0m\u001b[0;34m\"Sorry, no numbers below zero\"\u001b[0m\u001b[0;34m)\u001b[0m\u001b[0;34m\u001b[0m\u001b[0;34m\u001b[0m\u001b[0m\n\u001b[0m",
            "\u001b[0;31mException\u001b[0m: Sorry, no numbers below zero"
          ]
        }
      ]
    },
    {
      "cell_type": "code",
      "source": [
        "x=int(input(\"enter marks\"))\n",
        "if x>100:\n",
        "    raise Exception(\"please enter proper marks\")"
      ],
      "metadata": {
        "colab": {
          "base_uri": "https://localhost:8080/",
          "height": 217
        },
        "id": "4B1x_O4jIxE9",
        "outputId": "f35e563f-51e3-40fb-bdf9-e27ac4590b02"
      },
      "execution_count": null,
      "outputs": [
        {
          "name": "stdout",
          "output_type": "stream",
          "text": [
            "enter marks105\n"
          ]
        },
        {
          "output_type": "error",
          "ename": "Exception",
          "evalue": "ignored",
          "traceback": [
            "\u001b[0;31m---------------------------------------------------------------------------\u001b[0m",
            "\u001b[0;31mException\u001b[0m                                 Traceback (most recent call last)",
            "\u001b[0;32m<ipython-input-4-46ee6ae82b53>\u001b[0m in \u001b[0;36m<cell line: 2>\u001b[0;34m()\u001b[0m\n\u001b[1;32m      1\u001b[0m \u001b[0mx\u001b[0m\u001b[0;34m=\u001b[0m\u001b[0mint\u001b[0m\u001b[0;34m(\u001b[0m\u001b[0minput\u001b[0m\u001b[0;34m(\u001b[0m\u001b[0;34m\"enter marks\"\u001b[0m\u001b[0;34m)\u001b[0m\u001b[0;34m)\u001b[0m\u001b[0;34m\u001b[0m\u001b[0;34m\u001b[0m\u001b[0m\n\u001b[1;32m      2\u001b[0m \u001b[0;32mif\u001b[0m \u001b[0mx\u001b[0m\u001b[0;34m>\u001b[0m\u001b[0;36m100\u001b[0m\u001b[0;34m:\u001b[0m\u001b[0;34m\u001b[0m\u001b[0;34m\u001b[0m\u001b[0m\n\u001b[0;32m----> 3\u001b[0;31m     \u001b[0;32mraise\u001b[0m \u001b[0mException\u001b[0m\u001b[0;34m(\u001b[0m\u001b[0;34m\"please enter proper marks\"\u001b[0m\u001b[0;34m)\u001b[0m\u001b[0;34m\u001b[0m\u001b[0;34m\u001b[0m\u001b[0m\n\u001b[0m",
            "\u001b[0;31mException\u001b[0m: please enter proper marks"
          ]
        }
      ]
    },
    {
      "cell_type": "markdown",
      "source": [
        "# File Handling"
      ],
      "metadata": {
        "id": "0mbgnTbQCPbR"
      }
    },
    {
      "cell_type": "markdown",
      "source": [
        "The   `open()`  function takes two parameters; filename, and mode.\n",
        "\n",
        "Four different methods (modes) for opening a file :-\n",
        "\n",
        "\n",
        "1.   `r` - Read - Default value. Opens a file for reading, error if the file does not exist\n",
        "\n",
        "2.   `a` - Append - Opens a file for appending, creates the file if it does not exist\n",
        "\n",
        "3. `w` - Write - Opens a file for writing, creates the file if it does not exist\n",
        "\n",
        "4. `x` - Create - Creates the specified file, returns an error if the file exists\n",
        "\n"
      ],
      "metadata": {
        "id": "AhQKtHZCCXoi"
      }
    },
    {
      "cell_type": "markdown",
      "source": [
        "![ReadOpen.png](data:image/png;base64,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)"
      ],
      "metadata": {
        "id": "_ipSsDkleNLs"
      }
    },
    {
      "cell_type": "code",
      "source": [
        "f = open(\"/content/sample_data/mnist_test.csv\", \"r\")"
      ],
      "metadata": {
        "id": "LGyJVWy_CA6o"
      },
      "execution_count": null,
      "outputs": []
    },
    {
      "cell_type": "code",
      "source": [],
      "metadata": {
        "id": "kht1ASh3Dc0Q"
      },
      "execution_count": null,
      "outputs": []
    },
    {
      "cell_type": "markdown",
      "source": [
        "<h1>Python Read File"
      ],
      "metadata": {
        "id": "7aqJI84Od5vO"
      }
    },
    {
      "cell_type": "markdown",
      "source": [
        "<h2>Reading Text Files </h2>"
      ],
      "metadata": {
        "id": "JaKrTNrvd976"
      }
    },
    {
      "cell_type": "code",
      "source": [
        "# Read the Example1.txt\n",
        "\n",
        "example1 = \"/content/sample_data/example1.txt\"\n",
        "file1 = open(example1, \"r\")"
      ],
      "metadata": {
        "id": "pVOyZZkEe6ty"
      },
      "execution_count": null,
      "outputs": []
    },
    {
      "cell_type": "markdown",
      "metadata": {
        "id": "bHdh_C9wx2-4"
      },
      "source": [
        " We can view the attributes of the file."
      ]
    },
    {
      "cell_type": "markdown",
      "metadata": {
        "id": "lkChiC1px2-5"
      },
      "source": [
        "The name of the file:"
      ]
    },
    {
      "cell_type": "code",
      "metadata": {
        "id": "7G9uJej4x2-6",
        "colab": {
          "base_uri": "https://localhost:8080/",
          "height": 35
        },
        "outputId": "6e245a68-26eb-4193-ec57-878131fc9c90"
      },
      "source": [
        "# Print the path of file\n",
        "\n",
        "file1.name"
      ],
      "execution_count": null,
      "outputs": [
        {
          "output_type": "execute_result",
          "data": {
            "text/plain": [
              "'/content/sample_data/example1.txt'"
            ],
            "application/vnd.google.colaboratory.intrinsic+json": {
              "type": "string"
            }
          },
          "metadata": {},
          "execution_count": 21
        }
      ]
    },
    {
      "cell_type": "markdown",
      "metadata": {
        "id": "FVZbPpDAx2_A"
      },
      "source": [
        " The mode the file object is in:"
      ]
    },
    {
      "cell_type": "code",
      "metadata": {
        "id": "ZkmPceh0x2_C",
        "colab": {
          "base_uri": "https://localhost:8080/",
          "height": 35
        },
        "outputId": "40192061-4b8b-4377-ccb2-37665f007197"
      },
      "source": [
        "# Print the mode of file, either 'r' or 'w'\n",
        "\n",
        "file1.mode"
      ],
      "execution_count": null,
      "outputs": [
        {
          "output_type": "execute_result",
          "data": {
            "text/plain": [
              "'r'"
            ],
            "application/vnd.google.colaboratory.intrinsic+json": {
              "type": "string"
            }
          },
          "metadata": {},
          "execution_count": 22
        }
      ]
    },
    {
      "cell_type": "markdown",
      "metadata": {
        "id": "EEK36Uqnx2_L"
      },
      "source": [
        "We can read the file and assign it to a variable :"
      ]
    },
    {
      "cell_type": "code",
      "metadata": {
        "id": "ArrqzEmQx2_M",
        "colab": {
          "base_uri": "https://localhost:8080/",
          "height": 35
        },
        "outputId": "e030987c-ccab-4444-c7bd-1357ca2bcb0c"
      },
      "source": [
        "# Read the file\n",
        "\n",
        "FileContent = file1.read()\n",
        "FileContent"
      ],
      "execution_count": null,
      "outputs": [
        {
          "output_type": "execute_result",
          "data": {
            "text/plain": [
              "'hello'"
            ],
            "application/vnd.google.colaboratory.intrinsic+json": {
              "type": "string"
            }
          },
          "metadata": {},
          "execution_count": 29
        }
      ]
    },
    {
      "cell_type": "markdown",
      "metadata": {
        "id": "dp30tuvHx2_R"
      },
      "source": [
        "The <b>/n</b> means that there is a new line."
      ]
    },
    {
      "cell_type": "markdown",
      "metadata": {
        "id": "oQEP3bOcx2_S"
      },
      "source": [
        "We can print the file:"
      ]
    },
    {
      "cell_type": "code",
      "metadata": {
        "id": "JeQkSJ5Kx2_U",
        "colab": {
          "base_uri": "https://localhost:8080/"
        },
        "outputId": "f0380644-0d85-4ed0-9697-6f0fa5aee6ea"
      },
      "source": [
        "# Print the file with '\\n' as a new line\n",
        "\n",
        "print(FileContent)"
      ],
      "execution_count": null,
      "outputs": [
        {
          "output_type": "stream",
          "name": "stdout",
          "text": [
            "t file\n"
          ]
        }
      ]
    },
    {
      "cell_type": "markdown",
      "metadata": {
        "id": "3UX6RQDSx2_Z"
      },
      "source": [
        "The file is of type string:"
      ]
    },
    {
      "cell_type": "code",
      "metadata": {
        "id": "gq-kxFH3x2_a",
        "colab": {
          "base_uri": "https://localhost:8080/"
        },
        "outputId": "32ead2e1-8661-40ef-bc0a-16421229d516"
      },
      "source": [
        "# Type of file content\n",
        "\n",
        "type(FileContent)"
      ],
      "execution_count": null,
      "outputs": [
        {
          "output_type": "execute_result",
          "data": {
            "text/plain": [
              "str"
            ]
          },
          "metadata": {},
          "execution_count": 27
        }
      ]
    },
    {
      "cell_type": "markdown",
      "metadata": {
        "id": "KUnAAW8fx2_h"
      },
      "source": [
        " We must close the file object:"
      ]
    },
    {
      "cell_type": "code",
      "metadata": {
        "jupyter": {
          "outputs_hidden": true
        },
        "id": "4npxswERx2_k"
      },
      "source": [
        "# Close file after finish\n",
        "\n",
        "file1.close()"
      ],
      "execution_count": null,
      "outputs": []
    },
    {
      "cell_type": "markdown",
      "metadata": {
        "id": "jkm5pZOkx2_s"
      },
      "source": [
        "Using the <code>with</code> statement is better practice, it automatically closes the file even if the code encounters an exception. The code will run everything in the indent block then close the file object."
      ]
    },
    {
      "cell_type": "code",
      "metadata": {
        "id": "iksuKTaXx2_t",
        "colab": {
          "base_uri": "https://localhost:8080/"
        },
        "outputId": "b8054408-4849-4c04-8da4-8b2ac94dcb1e"
      },
      "source": [
        "# Open file using with\n",
        "\n",
        "with open(example1, \"r\") as file1:\n",
        "    FileContent = file1.read()\n",
        "    print(FileContent)"
      ],
      "execution_count": null,
      "outputs": [
        {
          "output_type": "stream",
          "name": "stdout",
          "text": [
            "hello\n"
          ]
        }
      ]
    },
    {
      "cell_type": "markdown",
      "metadata": {
        "id": "Kk2EDCDqx2_z"
      },
      "source": [
        "The file object is closed, you can verify it by running the following cell:"
      ]
    },
    {
      "cell_type": "code",
      "metadata": {
        "id": "LqdL01Zox2_0",
        "colab": {
          "base_uri": "https://localhost:8080/"
        },
        "outputId": "8982d51a-22ab-4082-d820-b7f75c80cc04"
      },
      "source": [
        "# Verify if the file is closed\n",
        "file1 = open(example1, \"r\")\n",
        "file1.close()\n",
        "file1.closed"
      ],
      "execution_count": null,
      "outputs": [
        {
          "output_type": "execute_result",
          "data": {
            "text/plain": [
              "True"
            ]
          },
          "metadata": {},
          "execution_count": 36
        }
      ]
    },
    {
      "cell_type": "markdown",
      "metadata": {
        "id": "65CuYDJIx2_4"
      },
      "source": [
        " We can see the info in the file:"
      ]
    },
    {
      "cell_type": "code",
      "metadata": {
        "id": "YGo-C1H0x2_5",
        "colab": {
          "base_uri": "https://localhost:8080/"
        },
        "outputId": "2073882e-e1f4-4e77-9c62-b8ba8ae1d216"
      },
      "source": [
        "# See the content of file\n",
        "\n",
        "print(FileContent)"
      ],
      "execution_count": null,
      "outputs": [
        {
          "output_type": "stream",
          "name": "stdout",
          "text": [
            "hello world its \n",
            "atharva here\n",
            "this is example \n",
            "text  named example1.txt\n"
          ]
        }
      ]
    },
    {
      "cell_type": "markdown",
      "source": [
        "With AS"
      ],
      "metadata": {
        "id": "Uv0z3AcsfuaW"
      }
    },
    {
      "cell_type": "markdown",
      "metadata": {
        "id": "f2BMjBjox2_-"
      },
      "source": [
        "<img src=\"https://s3-api.us-geo.objectstorage.softlayer.net/cf-courses-data/CognitiveClass/PY0101EN/Chapter%204/Images/ReadWith.png\" width=\"500\" />"
      ]
    },
    {
      "cell_type": "markdown",
      "metadata": {
        "id": "fjczkJJjx2_-"
      },
      "source": [
        "We don’t have to read the entire file, for example, we can read the first 4 characters by entering three as a parameter to the method **.read()**:\n"
      ]
    },
    {
      "cell_type": "code",
      "metadata": {
        "id": "7IZWf8QXx2__",
        "colab": {
          "base_uri": "https://localhost:8080/"
        },
        "outputId": "c65fa56b-0cfe-4180-9cf9-72d101022cc6"
      },
      "source": [
        "# Read first four characters\n",
        "\n",
        "with open(example1, \"r\") as file1:\n",
        "    print(file1.read(2))"
      ],
      "execution_count": null,
      "outputs": [
        {
          "output_type": "stream",
          "name": "stdout",
          "text": [
            "he\n"
          ]
        }
      ]
    },
    {
      "cell_type": "markdown",
      "metadata": {
        "id": "O2T2GSTwx3AF"
      },
      "source": [
        "Once the method <code>.read(4)</code> is called the first 4 characters are called. If we call the method again, the next 4 characters are called. The output for the following cell will demonstrate the process for different inputs to the method <code>read()</code>:"
      ]
    },
    {
      "cell_type": "code",
      "metadata": {
        "id": "qMzZvul_x3AG",
        "colab": {
          "base_uri": "https://localhost:8080/"
        },
        "outputId": "b5e23a97-753b-4c87-9514-3c6510bc3259"
      },
      "source": [
        "# Read certain amount of characters\n",
        "\n",
        "with open(example1, \"r\") as file1:\n",
        "    print(file1.read(4))\n",
        "    print(file1.read(4))\n",
        "    print(file1.read(7))\n",
        "    print(file1.read(15))"
      ],
      "execution_count": null,
      "outputs": [
        {
          "output_type": "stream",
          "name": "stdout",
          "text": [
            "hell\n",
            "o as\n",
            "dasd we\n",
            "wfreafa dwsfdfa\n"
          ]
        }
      ]
    },
    {
      "cell_type": "markdown",
      "metadata": {
        "id": "sbmasrrKx3AL"
      },
      "source": [
        "The process is illustrated in the below figure, and each color represents the part of the file read after the method <code>read()</code> is called:"
      ]
    },
    {
      "cell_type": "markdown",
      "metadata": {
        "id": "DZdnhbwex3AM"
      },
      "source": [
        "<img src=\"https://s3-api.us-geo.objectstorage.softlayer.net/cf-courses-data/CognitiveClass/PY0101EN/Chapter%204/Images/ReadChar.png\" width=\"500\" />"
      ]
    },
    {
      "cell_type": "markdown",
      "metadata": {
        "id": "xWoeNTyAx3AM"
      },
      "source": [
        " Here is an example using the same file, but instead we read 16, 5, and then 9 characters at a time:"
      ]
    },
    {
      "cell_type": "code",
      "metadata": {
        "id": "DeEt8xklx3AN",
        "colab": {
          "base_uri": "https://localhost:8080/"
        },
        "outputId": "be3d93e3-e5df-46ed-c943-609fffe39007"
      },
      "source": [
        "# Read certain amount of characters\n",
        "\n",
        "with open(example1, \"r\") as file1:\n",
        "    print(file1.read(16))\n",
        "    print(file1.read(5))\n",
        "    print(file1.read(9))"
      ],
      "execution_count": null,
      "outputs": [
        {
          "output_type": "stream",
          "name": "stdout",
          "text": [
            "hello world its \n",
            "\n",
            "atha\n",
            "rva here\n",
            "\n"
          ]
        }
      ]
    },
    {
      "cell_type": "markdown",
      "metadata": {
        "id": "7p0z1t4Kx3AT"
      },
      "source": [
        "We can also read one line of the file at a time using the method <code>readline()</code>:"
      ]
    },
    {
      "cell_type": "code",
      "metadata": {
        "id": "wrXl6Lcjx3AU",
        "colab": {
          "base_uri": "https://localhost:8080/"
        },
        "outputId": "a99c8fd9-b3e3-4cb2-bbfb-e7127475cf0e"
      },
      "source": [
        "# Read one line\n",
        "\n",
        "with open(example1, \"r\") as file1:\n",
        "    print(\"first line: \" + file1.readline())"
      ],
      "execution_count": null,
      "outputs": [
        {
          "output_type": "stream",
          "name": "stdout",
          "text": [
            "first line: hello asdasd wewfreafa \n",
            "\n"
          ]
        }
      ]
    },
    {
      "cell_type": "markdown",
      "metadata": {
        "id": "Cah-o9FJx3AZ"
      },
      "source": [
        " We can use a loop to iterate through each line:\n"
      ]
    },
    {
      "cell_type": "code",
      "metadata": {
        "id": "CA34SNeyx3Aa",
        "colab": {
          "base_uri": "https://localhost:8080/"
        },
        "outputId": "04b8b974-fa9b-46af-e44b-2088f70ba0ab"
      },
      "source": [
        "# Iterate through the lines\n",
        "\n",
        "with open(example1,\"r\") as file1:\n",
        "        i = 0;\n",
        "        for line in file1:\n",
        "            print(\"Iteration\", str(i), \": \", line)\n",
        "            i = i + 1;"
      ],
      "execution_count": null,
      "outputs": [
        {
          "output_type": "stream",
          "name": "stdout",
          "text": [
            "Iteration 0 :  hello\n",
            "\n",
            "Iteration 1 :   asdasd\n",
            "\n",
            "Iteration 2 :    wewfreafa \n",
            "\n",
            "Iteration 3 :  dwsfdf\n",
            "\n",
            "Iteration 4 :  aewdeadf \n",
            "\n",
            "Iteration 5 :  1203\n"
          ]
        }
      ]
    },
    {
      "cell_type": "markdown",
      "metadata": {
        "id": "gVsQHf_ax3Ae"
      },
      "source": [
        "We can use the method <code>readlines()</code> to save the text file to a list:"
      ]
    },
    {
      "cell_type": "code",
      "metadata": {
        "jupyter": {
          "outputs_hidden": true
        },
        "id": "PO7Wirhkx3Af"
      },
      "source": [
        "# Read all lines and save as a list\n",
        "\n",
        "with open(example1, \"r\") as file1:\n",
        "    FileasList = file1.readlines()"
      ],
      "execution_count": null,
      "outputs": []
    },
    {
      "cell_type": "markdown",
      "metadata": {
        "id": "8ux46zWqx3An"
      },
      "source": [
        " Each element of the list corresponds to a line of text:"
      ]
    },
    {
      "cell_type": "code",
      "metadata": {
        "id": "SEBA4whQx3Ao",
        "colab": {
          "base_uri": "https://localhost:8080/",
          "height": 35
        },
        "outputId": "5fdb72c8-74d3-4e46-e941-7323de479207"
      },
      "source": [
        "# Print the first line\n",
        "\n",
        "FileasList[0]"
      ],
      "execution_count": null,
      "outputs": [
        {
          "output_type": "execute_result",
          "data": {
            "text/plain": [
              "'hello\\n'"
            ],
            "application/vnd.google.colaboratory.intrinsic+json": {
              "type": "string"
            }
          },
          "metadata": {},
          "execution_count": 46
        }
      ]
    },
    {
      "cell_type": "code",
      "metadata": {
        "id": "a_HqstSQx3Au",
        "colab": {
          "base_uri": "https://localhost:8080/",
          "height": 35
        },
        "outputId": "6038bff5-28f1-465d-8768-8e974654e1ef"
      },
      "source": [
        "# Print the second line\n",
        "\n",
        "FileasList[1]"
      ],
      "execution_count": null,
      "outputs": [
        {
          "output_type": "execute_result",
          "data": {
            "text/plain": [
              "' asdasd\\n'"
            ],
            "application/vnd.google.colaboratory.intrinsic+json": {
              "type": "string"
            }
          },
          "metadata": {},
          "execution_count": 47
        }
      ]
    },
    {
      "cell_type": "markdown",
      "source": [
        "<h1>Python Write & Save"
      ],
      "metadata": {
        "id": "2pmQW_dfiQ2-"
      }
    },
    {
      "cell_type": "markdown",
      "metadata": {
        "id": "IFDcJI4g0uqF"
      },
      "source": [
        " We can open a file object using the method <code>write()</code> to save the text file to a list. To write the mode, argument must be set to write <b>w</b>. Let’s write a file <b>Example2.txt</b> with the line: <b>“This is line A”</b>"
      ]
    },
    {
      "cell_type": "code",
      "metadata": {
        "id": "2U3RCqa90uqG"
      },
      "source": [
        "# Write line to file\n",
        "\n",
        "with open('/content/example2.txt', 'w') as writefile:\n",
        "    writefile.write(\"This is line A\")"
      ],
      "execution_count": null,
      "outputs": []
    },
    {
      "cell_type": "markdown",
      "metadata": {
        "id": "RpcJPaUy0uqP"
      },
      "source": [
        " We can read the file to see if it worked:"
      ]
    },
    {
      "cell_type": "markdown",
      "metadata": {
        "id": "OPX4_QDP0uqW"
      },
      "source": [
        "We can write multiple lines:"
      ]
    },
    {
      "cell_type": "code",
      "metadata": {
        "id": "9h3zbOfP0uqX"
      },
      "source": [
        "# Write lines to file\n",
        "\n",
        "with open('/content/example2.txt', 'w') as writefile:\n",
        "    writefile.write(\"This is line A\\n\")\n",
        "    writefile.write(\"This is line B\\n\")"
      ],
      "execution_count": null,
      "outputs": []
    },
    {
      "cell_type": "markdown",
      "metadata": {
        "id": "u_UJ-8eF0uqe"
      },
      "source": [
        "The method <code>.write()</code> works similar to the method <code>.readline()</code>, except instead of reading a new line it writes a new line. The process is illustrated in the figure , the different colour coding of the grid represents a new line added to the file after each method call."
      ]
    },
    {
      "cell_type": "markdown",
      "metadata": {
        "id": "Bv_Vsntd0uqf"
      },
      "source": [
        "<img src=\"https://s3-api.us-geo.objectstorage.softlayer.net/cf-courses-data/CognitiveClass/PY0101EN/Chapter%204/Images/WriteLine.png\" width=\"500\" />"
      ]
    },
    {
      "cell_type": "markdown",
      "metadata": {
        "id": "974YTupv0uqh"
      },
      "source": [
        "You can check the file to see if your results are correct"
      ]
    },
    {
      "cell_type": "code",
      "metadata": {
        "id": "Fsf2L9zK0uqi",
        "colab": {
          "base_uri": "https://localhost:8080/"
        },
        "outputId": "7ec85263-7bd2-4d83-e023-67689dae44e1"
      },
      "source": [
        "# Check whether write to file\n",
        "\n",
        "with open('/content/example2.txt', 'r') as testwritefile:\n",
        "    print(testwritefile.read())"
      ],
      "execution_count": null,
      "outputs": [
        {
          "output_type": "stream",
          "name": "stdout",
          "text": [
            "This is line A\n",
            "This is line B\n",
            "\n"
          ]
        }
      ]
    },
    {
      "cell_type": "markdown",
      "metadata": {
        "id": "c_gfSZAd0uqn"
      },
      "source": [
        " By setting the mode argument to append **a**  you can append a new line as follows:"
      ]
    },
    {
      "cell_type": "code",
      "metadata": {
        "id": "fFFgFOl00uqo"
      },
      "source": [
        "# Write a new line to text file\n",
        "\n",
        "with open('/content/example2.txt', 'a') as testwritefile:\n",
        "    testwritefile.write(\"This is line C\\n\")"
      ],
      "execution_count": null,
      "outputs": []
    },
    {
      "cell_type": "markdown",
      "metadata": {
        "id": "N23uTexm0uqx"
      },
      "source": [
        " You can verify the file has changed by running the following cell:"
      ]
    },
    {
      "cell_type": "code",
      "metadata": {
        "id": "JETFtv8p0uqy",
        "colab": {
          "base_uri": "https://localhost:8080/"
        },
        "outputId": "e565be3f-51b5-45ca-8c6e-21f6478526e7"
      },
      "source": [
        "# Verify if the new line is in the text file\n",
        "\n",
        "with open('/content/example2.txt', 'r') as testwritefile:\n",
        "    print(testwritefile.read())"
      ],
      "execution_count": null,
      "outputs": [
        {
          "output_type": "stream",
          "name": "stdout",
          "text": [
            "This is line A\n",
            "This is line B\n",
            "This is line C\n",
            "\n"
          ]
        }
      ]
    },
    {
      "cell_type": "markdown",
      "metadata": {
        "id": "Ar3kQmbt0uq3"
      },
      "source": [
        " We write a list to a <b>.txt</b> file  as follows:"
      ]
    },
    {
      "cell_type": "code",
      "metadata": {
        "id": "B8An-Bco0uq4",
        "colab": {
          "base_uri": "https://localhost:8080/"
        },
        "outputId": "613adf66-a9ed-47ef-e1ff-f2b0650bbdcf"
      },
      "source": [
        "# Sample list of text\n",
        "\n",
        "Lines = [\"This is line A\\n\", \"This is line B\\n\", \"This is line C\\n\"]\n",
        "Lines"
      ],
      "execution_count": null,
      "outputs": [
        {
          "output_type": "execute_result",
          "data": {
            "text/plain": [
              "['This is line A\\n', 'This is line B\\n', 'This is line C\\n']"
            ]
          },
          "metadata": {},
          "execution_count": 53
        }
      ]
    },
    {
      "cell_type": "code",
      "metadata": {
        "id": "lIC-7duI0urD",
        "colab": {
          "base_uri": "https://localhost:8080/"
        },
        "outputId": "4d3075d5-c891-40f1-c166-55e8b05702f3"
      },
      "source": [
        "# Write the strings in the list to text file\n",
        "\n",
        "with open('Example2.txt', 'w') as writefile:\n",
        "    for line in Lines:\n",
        "        print(line)\n",
        "        writefile.write(line)"
      ],
      "execution_count": null,
      "outputs": [
        {
          "output_type": "stream",
          "name": "stdout",
          "text": [
            "This is line A\n",
            "\n",
            "This is line B\n",
            "\n",
            "This is line C\n",
            "\n"
          ]
        }
      ]
    },
    {
      "cell_type": "markdown",
      "metadata": {
        "id": "suNT40OX0urJ"
      },
      "source": [
        " We can verify the file is written by reading it and printing out the values:"
      ]
    },
    {
      "cell_type": "code",
      "metadata": {
        "id": "7eBFo9FN0urL",
        "colab": {
          "base_uri": "https://localhost:8080/"
        },
        "outputId": "0db0b86a-1ec7-4bd1-c56f-968dd17e2606"
      },
      "source": [
        "# Verify if writing to file is successfully executed\n",
        "\n",
        "with open('Example2.txt', 'r') as testwritefile:\n",
        "    print(testwritefile.read())"
      ],
      "execution_count": null,
      "outputs": [
        {
          "output_type": "stream",
          "name": "stdout",
          "text": [
            "This is line A\n",
            "This is line B\n",
            "This is line C\n",
            "\n"
          ]
        }
      ]
    },
    {
      "cell_type": "markdown",
      "metadata": {
        "id": "VWezcpUX0urS"
      },
      "source": [
        "We can again append to the file by changing the second parameter to <b>a</b>. This adds the code:"
      ]
    },
    {
      "cell_type": "code",
      "metadata": {
        "id": "PY8JZ4rf0urT"
      },
      "source": [
        "# Append the line to the file\n",
        "\n",
        "with open('Example2.txt', 'a') as testwritefile:\n",
        "    testwritefile.write(\"This is line D\\n\")"
      ],
      "execution_count": null,
      "outputs": []
    },
    {
      "cell_type": "markdown",
      "metadata": {
        "id": "H69mXXBN0urY"
      },
      "source": [
        "We can see the results of appending the file:"
      ]
    },
    {
      "cell_type": "code",
      "metadata": {
        "id": "MS0mzIs40urZ",
        "colab": {
          "base_uri": "https://localhost:8080/"
        },
        "outputId": "1ef41e92-e5b8-4178-ef89-6b07952694d7"
      },
      "source": [
        "# Verify if the appending is successfully executed\n",
        "\n",
        "with open('Example2.txt', 'r') as testwritefile:\n",
        "    print(testwritefile.read())"
      ],
      "execution_count": null,
      "outputs": [
        {
          "output_type": "stream",
          "name": "stdout",
          "text": [
            "This is line A\n",
            "This is line B\n",
            "This is line C\n",
            "This is line D\n",
            "\n"
          ]
        }
      ]
    },
    {
      "cell_type": "markdown",
      "metadata": {
        "id": "VepnvnDs0urg"
      },
      "source": [
        "<h2 id=\"copy\">Copy a File</h2>"
      ]
    },
    {
      "cell_type": "markdown",
      "metadata": {
        "id": "m9Cc3FKF0urh"
      },
      "source": [
        "Let's copy the file <b>Example2.txt</b> to the file <b>Example3.txt</b>:"
      ]
    },
    {
      "cell_type": "code",
      "metadata": {
        "id": "hO8CimOD0uri"
      },
      "source": [
        "# Copy file to another\n",
        "\n",
        "with open('Example2.txt','r') as readfile:\n",
        "    with open('Example4.txt','w') as writefile:\n",
        "          for line in readfile:\n",
        "                writefile.write(line)"
      ],
      "execution_count": null,
      "outputs": []
    },
    {
      "cell_type": "markdown",
      "metadata": {
        "id": "HS366siV0urm"
      },
      "source": [
        "We can read the file to see if everything works:"
      ]
    },
    {
      "cell_type": "code",
      "metadata": {
        "id": "-r7RRA680urn",
        "colab": {
          "base_uri": "https://localhost:8080/"
        },
        "outputId": "1f140c30-7ac3-4dc7-d25b-4dc8379f66c1"
      },
      "source": [
        "# Verify if the copy is successfully executed\n",
        "\n",
        "with open('Example4.txt','r') as testwritefile:\n",
        "    print(testwritefile.read())"
      ],
      "execution_count": null,
      "outputs": [
        {
          "output_type": "stream",
          "name": "stdout",
          "text": [
            "This is line A\n",
            "This is line B\n",
            "This is line C\n",
            "This is line D\n",
            "\n"
          ]
        }
      ]
    },
    {
      "cell_type": "markdown",
      "source": [
        "Create a file in python"
      ],
      "metadata": {
        "id": "_bUSSo3zr81C"
      }
    },
    {
      "cell_type": "code",
      "source": [
        "with open('example4.txt', 'x') as f:\n",
        "    f.write('Create a new text file!')"
      ],
      "metadata": {
        "id": "ZWdlrdhhr_Qx"
      },
      "execution_count": null,
      "outputs": []
    },
    {
      "cell_type": "code",
      "source": [
        "f"
      ],
      "metadata": {
        "colab": {
          "base_uri": "https://localhost:8080/"
        },
        "id": "_4NFUfGksNlT",
        "outputId": "27d037a9-b293-441e-b04b-c385da72cd18"
      },
      "execution_count": null,
      "outputs": [
        {
          "output_type": "execute_result",
          "data": {
            "text/plain": [
              "<_io.TextIOWrapper name='atharva.txt' mode='x' encoding='UTF-8'>"
            ]
          },
          "metadata": {},
          "execution_count": 65
        }
      ]
    },
    {
      "cell_type": "code",
      "source": [
        "\n",
        "with open('example4.txt','r') as testwritefile:\n",
        "    print(testwritefile.read())\n"
      ],
      "metadata": {
        "colab": {
          "base_uri": "https://localhost:8080/"
        },
        "id": "rYCy97B8sVll",
        "outputId": "54e86a9f-81cb-41f7-a906-ec9dd81af410"
      },
      "execution_count": null,
      "outputs": [
        {
          "output_type": "stream",
          "name": "stdout",
          "text": [
            "Create a new text file!\n"
          ]
        }
      ]
    },
    {
      "cell_type": "markdown",
      "source": [
        "#OOPS in Python\n",
        "##Python Class\n",
        "A class is a collection of objects. A class contains the blueprints or the prototype from which the objects are being created. It is a logical entity that contains some attributes and methods.\n",
        "\n",
        "To understand the need for creating a class let’s consider an example, let’s say you wanted to track the number of dogs that may have different attributes like breed, and age. If a list is used, the first element could be the dog’s breed while the second element could represent its age. Let’s suppose there are 100 different dogs, then how would you know which element is supposed to be which? What if you wanted to add other properties to these dogs? This lacks organization and it’s the exact need for classes.\n",
        "\n",
        "Some points on Python class:  \n",
        "\n",
        "Classes are created by keyword class.\n",
        "Attributes are the variables that belong to a class.\n",
        "Attributes are always public and can be accessed using the dot (.) operator. Eg.: Myclass.Myattribute\n",
        "Class Definition Syntax:\n",
        "\n",
        "class ClassName:\n",
        "   # Statement-1\n",
        "   .\n",
        "   .\n",
        "   .\n",
        "   # Statement-N\n"
      ],
      "metadata": {
        "id": "Trd9ABU5prWV"
      }
    },
    {
      "cell_type": "code",
      "source": [
        "class MyClass:\n",
        "  pass\n"
      ],
      "metadata": {
        "id": "SUbpnCFkp8Zt"
      },
      "execution_count": null,
      "outputs": []
    },
    {
      "cell_type": "markdown",
      "source": [
        "##Python Objects\n",
        "The object is an entity that has a state and behavior associated with it. It may be any real-world object like a mouse, keyboard, chair, table, pen, etc. Integers, strings, floating-point numbers, even arrays, and dictionaries, are all objects. More specifically, any single integer or any single string is an object. The number 12 is an object, the string “Hello, world” is an object, a list is an object that can hold other objects, and so on. You’ve been using objects all along and may not even realize it.\n",
        "\n",
        "An object consists of:\n",
        "\n",
        "State: It is represented by the attributes of an object. It also reflects the properties of an object.\n",
        "Behavior: It is represented by the methods of an object. It also reflects the response of an object to other objects.\n",
        "Identity: It gives a unique name to an object and enables one object to interact with other objects.\n",
        "To understand the state, behavior, and identity let us take the example of the class dog (explained above).\n",
        "\n",
        "The identity can be considered as the name of the dog.\n",
        "State or Attributes can be considered as the breed, age, or color of the dog.\n",
        "The behavior can be considered as to whether the dog is eating or sleeping.\n",
        "Creating an Object\n",
        "This will create an object named obj of the class Dog defined above. Before diving deep into objects and classes let us understand some basic keywords that will we used while working with objects and classes."
      ],
      "metadata": {
        "id": "W7JfgLVJqTkL"
      }
    },
    {
      "cell_type": "code",
      "source": [
        "obj = Dog()\n"
      ],
      "metadata": {
        "id": "pUNQwz1SqZIf"
      },
      "execution_count": null,
      "outputs": []
    },
    {
      "cell_type": "markdown",
      "source": [
        "##The Python self  \n",
        "Class methods must have an extra first parameter in the method definition. We do not give a value for this parameter when we call the method, Python provides it\n",
        "If we have a method that takes no arguments, then we still have to have one argument.\n",
        "This is similar to this pointer in C++ and this reference in Java.\n",
        "When we call a method of this object as myobject.method(arg1, arg2), this is automatically converted by Python into MyClass.method(myobject, arg1, arg2) – this is all the special self is about.\n",
        "\n",
        "Note: For more information, refer to self in the Python class\n",
        "\n",
        "The Python __init__ Method\n",
        "The __init__ method is similar to constructors in C++ and Java. It is run as soon as an object of a class is instantiated. The method is useful to do any initialization you want to do with your object. Now let us define a class and create some objects using the self and __init__ method.\n",
        "\n",
        "Creating a class and object with class and instance attributes"
      ],
      "metadata": {
        "id": "iEGc0Iblqm5s"
      }
    },
    {
      "cell_type": "code",
      "source": [
        "class Dog:\n",
        "\n",
        "\t# class attribute\n",
        "\tattr1 = \"mammal\"\n",
        "\n",
        "\t# Instance attribute\n",
        "\tdef __init__(self, name):\n",
        "\t\tself.name = name\n",
        "\n",
        "# Driver code\n",
        "# Object instantiation\n",
        "Rodger = Dog(\"Rodger\")\n",
        "Tommy = Dog(\"Tommy\")\n",
        "\n",
        "# Accessing class attributes\n",
        "print(\"Rodger is a {}\".format(Rodger.__class__.attr1))\n",
        "print(\"Tommy is also a {}\".format(Tommy.__class__.attr1))\n",
        "\n",
        "# Accessing instance attributes\n",
        "print(\"My name is {}\".format(Rodger.name))\n",
        "print(\"My name is {}\".format(Tommy.name))\n"
      ],
      "metadata": {
        "id": "opCLoO1TqtId"
      },
      "execution_count": null,
      "outputs": []
    },
    {
      "cell_type": "markdown",
      "source": [
        "##Creating Classes and objects with methods\n",
        "Here, The Dog class is defined with two attributes:\n",
        "\n",
        "attr1 is a class attribute set to the value “mammal”. Class attributes are shared by all instances of the class.\n",
        "__init__ is a special method (constructor) that initializes an instance of the Dog class. It takes two parameters: self (referring to the instance being created) and name (representing the name of the dog). The name parameter is used to assign a name attribute to each instance of Dog.\n",
        "The speak method is defined within the Dog class. This method prints a string that includes the name of the dog instance.\n",
        "The driver code starts by creating two instances of the Dog class: Rodger and Tommy. The __init__ method is called for each instance to initialize their name attributes with the provided names. The speak method is called in both instances (Rodger.speak() and Tommy.speak()), causing each dog to print a statement with its name."
      ],
      "metadata": {
        "id": "i7IaEx2Mq1v3"
      }
    },
    {
      "cell_type": "code",
      "source": [
        "class Dog:\n",
        "\n",
        "\t# class attribute\n",
        "\tattr1 = \"mammal\"\n",
        "\n",
        "\t# Instance attribute\n",
        "\tdef __init__(self, name):\n",
        "\t\tself.name = name\n",
        "\n",
        "\tdef speak(self):\n",
        "\t\tprint(\"My name is {}\".format(self.name))\n",
        "\n",
        "# Driver code\n",
        "# Object instantiation\n",
        "Rodger = Dog(\"Rodger\")\n",
        "Tommy = Dog(\"Tommy\")\n",
        "\n",
        "# Accessing class methods\n",
        "Rodger.speak()\n",
        "Tommy.speak()\n"
      ],
      "metadata": {
        "id": "8LQfq3qjq6b-"
      },
      "execution_count": null,
      "outputs": []
    },
    {
      "cell_type": "code",
      "source": [
        "class MyClass:\n",
        "  \"\"\"A simple class.\"\"\"\n",
        "\n",
        "  def __init__(self, name, age):\n",
        "    \"\"\"Initializes the class.\n",
        "\n",
        "    Args:\n",
        "      name: The name of the person.\n",
        "      age: The age of the person.\n",
        "    \"\"\"\n",
        "\n",
        "    self.name = name\n",
        "    self.age = age\n",
        "\n",
        "  def say_hello(self):\n",
        "    \"\"\"Prints a greeting.\"\"\"\n",
        "\n",
        "    print(\"Hello, my name is {} and I am {} years old.\".format(self.name, self.age))\n"
      ],
      "metadata": {
        "id": "zcWv9kW6qIZ3"
      },
      "execution_count": null,
      "outputs": []
    },
    {
      "cell_type": "markdown",
      "source": [
        "#Python Inheritance\n",
        "Inheritance is the capability of one class to derive or inherit the properties from another class. The class that derives properties is called the derived class or child class and the class from which the properties are being derived is called the base class or parent class. The benefits of inheritance are:\n",
        "\n",
        "It represents real-world relationships well.\n",
        "It provides the reusability of a code. We don’t have to write the same code again and again. Also, it allows us to add more features to a class without modifying it.\n",
        "It is transitive in nature, which means that if class B inherits from another class A, then all the subclasses of B would automatically inherit from class A.\n",
        "Types of Inheritance\n",
        "Single Inheritance: Single-level inheritance enables a derived class to inherit characteristics from a single-parent class.\n",
        "Multilevel Inheritance: Multi-level inheritance enables a derived class to inherit properties from an immediate parent class which in turn inherits properties from his parent class.\n",
        "Hierarchical Inheritance: Hierarchical-level inheritance enables more than one derived class to inherit properties from a parent class.\n",
        "Multiple Inheritance: Multiple-level inheritance enables one derived class to inherit properties from more than one base class.\n",
        "Inheritance in Python\n",
        "In the above article, we have created two classes i.e. Person (parent class) and Employee (Child Class). The Employee class inherits from the Person class. We can use the methods of the person class through the employee class as seen in the display function in the above code. A child class can also modify the behavior of the parent class as seen through the details() method."
      ],
      "metadata": {
        "id": "z7qnM_z8q77t"
      }
    },
    {
      "cell_type": "code",
      "source": [
        "# Python code to demonstrate how parent constructors\n",
        "# are called.\n",
        "\n",
        "# parent class\n",
        "class Person(object):\n",
        "\n",
        "\t# __init__ is known as the constructor\n",
        "\tdef __init__(self, name, idnumber):\n",
        "\t\tself.name = name\n",
        "\t\tself.idnumber = idnumber\n",
        "\n",
        "\tdef display(self):\n",
        "\t\tprint(self.name)\n",
        "\t\tprint(self.idnumber)\n",
        "\n",
        "\tdef details(self):\n",
        "\t\tprint(\"My name is {}\".format(self.name))\n",
        "\t\tprint(\"IdNumber: {}\".format(self.idnumber))\n",
        "\n",
        "# child class\n",
        "class Employee(Person):\n",
        "\tdef __init__(self, name, idnumber, salary, post):\n",
        "\t\tself.salary = salary\n",
        "\t\tself.post = post\n",
        "\n",
        "\t\t# invoking the __init__ of the parent class\n",
        "\t\tPerson.__init__(self, name, idnumber)\n",
        "\n",
        "\tdef details(self):\n",
        "\t\tprint(\"My name is {}\".format(self.name))\n",
        "\t\tprint(\"IdNumber: {}\".format(self.idnumber))\n",
        "\t\tprint(\"Post: {}\".format(self.post))\n",
        "\n",
        "\n",
        "# creation of an object variable or an instance\n",
        "a = Employee('Rahul', 886012, 200000, \"Intern\")\n",
        "\n",
        "# calling a function of the class Person using\n",
        "# its instance\n",
        "a.display()\n",
        "a.details()\n"
      ],
      "metadata": {
        "id": "1Xm--LwprAiZ"
      },
      "execution_count": null,
      "outputs": []
    },
    {
      "cell_type": "markdown",
      "source": [
        "#Python Polymorphism\n",
        "Polymorphism simply means having many forms. For example, we need to determine if the given species of birds fly or not, using polymorphism we can do this using a single function.\n",
        "\n",
        "Polymorphism in Python\n",
        "This code demonstrates the concept of inheritance and method overriding in Python classes. It shows how subclasses can override methods defined in their parent class to provide specific behavior while still inheriting other methods from the parent class."
      ],
      "metadata": {
        "id": "KoMr-JkarFAi"
      }
    },
    {
      "cell_type": "code",
      "source": [
        "class Bird:\n",
        "\n",
        "\tdef intro(self):\n",
        "\t\tprint(\"There are many types of birds.\")\n",
        "\n",
        "\tdef flight(self):\n",
        "\t\tprint(\"Most of the birds can fly but some cannot.\")\n",
        "\n",
        "class sparrow(Bird):\n",
        "\n",
        "\tdef flight(self):\n",
        "\t\tprint(\"Sparrows can fly.\")\n",
        "\n",
        "class ostrich(Bird):\n",
        "\n",
        "\tdef flight(self):\n",
        "\t\tprint(\"Ostriches cannot fly.\")\n",
        "\n",
        "obj_bird = Bird()\n",
        "obj_spr = sparrow()\n",
        "obj_ost = ostrich()\n",
        "\n",
        "obj_bird.intro()\n",
        "obj_bird.flight()\n",
        "\n",
        "obj_spr.intro()\n",
        "obj_spr.flight()\n",
        "\n",
        "obj_ost.intro()\n",
        "obj_ost.flight()\n"
      ],
      "metadata": {
        "id": "zucFCxKmrHL_"
      },
      "execution_count": null,
      "outputs": []
    },
    {
      "cell_type": "markdown",
      "source": [
        "#Python Encapsulation\n",
        "Encapsulation is one of the fundamental concepts in object-oriented programming (OOP). It describes the idea of wrapping data and the methods that work on data within one unit. This puts restrictions on accessing variables and methods directly and can prevent the accidental modification of data. To prevent accidental change, an object’s variable can only be changed by an object’s method. Those types of variables are known as private variables.\n",
        "\n",
        "A class is an example of encapsulation as it encapsulates all the data that is member functions, variables, etc."
      ],
      "metadata": {
        "id": "YPPOjMZqrLkh"
      }
    },
    {
      "cell_type": "code",
      "source": [
        "# Python program to\n",
        "# demonstrate private members\n",
        "\n",
        "# Creating a Base class\n",
        "class Base:\n",
        "\tdef __init__(self):\n",
        "\t\tself.a = \"GeeksforGeeks\"\n",
        "\t\tself.__c = \"GeeksforGeeks\"\n",
        "\n",
        "# Creating a derived class\n",
        "class Derived(Base):\n",
        "\tdef __init__(self):\n",
        "\n",
        "\t\t# Calling constructor of\n",
        "\t\t# Base class\n",
        "\t\tBase.__init__(self)\n",
        "\t\tprint(\"Calling private member of base class: \")\n",
        "\t\tprint(self.__c)\n",
        "\n",
        "\n",
        "# Driver code\n",
        "obj1 = Base()\n",
        "print(obj1.a)\n",
        "\n",
        "# Uncommenting print(obj1.c) will\n",
        "# raise an AttributeError\n",
        "\n",
        "# Uncommenting obj2 = Derived() will\n",
        "# also raise an AtrributeError as\n",
        "# private member of base class\n",
        "# is called inside derived class\n"
      ],
      "metadata": {
        "id": "4YJKJp-erQcs"
      },
      "execution_count": null,
      "outputs": []
    },
    {
      "cell_type": "markdown",
      "source": [
        "#Data Abstraction\n",
        "It hides unnecessary code details from the user. Also,  when we do not want to give out sensitive parts of our code implementation and this is where data abstraction came.\n",
        "\n",
        "Data Abstraction in Python can be achieved by creating abstract classes."
      ],
      "metadata": {
        "id": "x1-q1voNrY92"
      }
    },
    {
      "cell_type": "code",
      "source": [
        "from abc import ABC, abstractmethod\n",
        "\n",
        "class Animal(ABC):\n",
        "\n",
        "\t@abstractmethod\n",
        "\tdef speak(self):\n",
        "\t\tpass\n",
        "\n",
        "class Dog(Animal):\n",
        "\n",
        "\tdef speak(self):\n",
        "\t\tprint(\"Woof!\")\n",
        "\n",
        "class Cat(Animal):\n",
        "\n",
        "\tdef speak(self):\n",
        "\t\tprint(\"Meow!\")\n",
        "\n",
        "\n",
        "animals = [Dog(), Cat()]\n",
        "\n",
        "for animal in animals:\n",
        "\tanimal.speak()\n"
      ],
      "metadata": {
        "id": "djCEig-KraE1"
      },
      "execution_count": null,
      "outputs": []
    }
  ]
}